{
 "cells": [
  {
   "cell_type": "code",
   "execution_count": 3,
   "metadata": {},
   "outputs": [
    {
     "name": "stdout",
     "output_type": "stream",
     "text": [
      "150.29052838654067\n",
      "66.85825799955668\n"
     ]
    },
    {
     "name": "stdout",
     "output_type": "stream",
     "text": [
      "6.629823358086027\n",
      "0.9738082489113375\n",
      "0.8620017281501285\n",
      "0.7612694327154735\n",
      "0.7070667501057029\n"
     ]
    },
    {
     "name": "stdout",
     "output_type": "stream",
     "text": [
      "0.6752490168810463\n",
      "0.6566693343824469\n",
      "0.6449862420360407\n",
      "0.6297493827166457\n",
      "0.6136629241684936\n"
     ]
    },
    {
     "name": "stdout",
     "output_type": "stream",
     "text": [
      "0.6045034711663557\n",
      "0.5997138829313783\n",
      "0.5972248685733998\n",
      "0.5951450454643485\n",
      "0.593609798000764\n"
     ]
    },
    {
     "name": "stdout",
     "output_type": "stream",
     "text": [
      "0.5915065117633705\n",
      "0.5897011150841652\n",
      "0.5885828692618534\n"
     ]
    },
    {
     "data": {
      "text/plain": [
       "5×20 Matrix{Float64}:\n",
       " 0.0107295  0.00515195  0.0509353  …  0.041509   0.07893    0.0273867\n",
       " 0.0856614  0.0426146   0.079095      0.0227859  0.0362736  0.11462\n",
       " 0.0184289  0.00908704  0.0602435     0.0399778  0.0720944  0.0402574\n",
       " 0.0825272  0.0411829   0.0793789     0.0236289  0.037681   0.112014\n",
       " 0.0664109  0.033458    0.0789556     0.0275444  0.0445196  0.0973623"
      ]
     },
     "metadata": {},
     "output_type": "display_data"
    }
   ],
   "source": [
    "using ExpFamilyPCA\n",
    "\n",
    "n_samples = 5\n",
    "n_dims = 20\n",
    "X = rand(n_samples, n_dims)  # generate fake probability data\n",
    "X ./= sum(X, dims=2)\n",
    "\n",
    "n_components = 2\n",
    "epca = PoissonPCA(n_components, n_dims)\n",
    "fit!(epca, X; verbose=true, maxiter=20)\n",
    "\n",
    "X̃1 = compress(epca, X)\n",
    "recon1 = decompress(epca, X̃1)"
   ]
  },
  {
   "cell_type": "code",
   "execution_count": 4,
   "metadata": {},
   "outputs": [
    {
     "data": {
      "text/plain": [
       "5×20 Matrix{Float64}:\n",
       " 0.0160277  0.037667   0.0284812  …  0.0650312   0.0786847   0.00674484\n",
       " 0.0863725  0.059657   0.0752105     0.0339471   0.0104532   0.0964759\n",
       " 0.0311483  0.0282345  0.0471927     0.0585103   0.0287506   0.0266902\n",
       " 0.0835628  0.0842782  0.0577355     0.0348994   0.0766921   0.0917077\n",
       " 0.0713507  0.041425   0.0735173     0.0407385  -0.00869196  0.0779429"
      ]
     },
     "metadata": {},
     "output_type": "display_data"
    }
   ],
   "source": [
    "using MultivariateStats\n",
    "\n",
    "M = fit(PCA, X; maxoutdim=n_components)\n",
    "X̃2 = predict(M, X)\n",
    "recon2 = reconstruct(M, X̃2)"
   ]
  },
  {
   "cell_type": "code",
   "execution_count": 14,
   "metadata": {},
   "outputs": [
    {
     "ename": "DomainError",
     "evalue": "DomainError with -3.7748908205601475:\nlog was called with a negative real argument but will only return a complex result if called with a complex argument. Try log(Complex(x)).\nDomainError detected in the user `f` function. This occurs when the domain of a function is violated.\nFor example, `log(-1.0)` is undefined because `log` of a real number is defined to only output real\nnumbers, but `log` of a negative number is complex valued and therefore Julia throws a DomainError\nby default. Cases to be aware of include:\n\n* `log(x)`, `sqrt(x)`, `cbrt(x)`, etc. where `x<0`\n* `x^y` for `x<0` floating point `y` (example: `(-1.0)^(1/2) == im`)\n\nWithin the context of SciML, this error can occur within the solver process even if the domain constraint\nwould not be violated in the solution due to adaptivity. For example, an ODE solver or optimization\nroutine may check a step at `new_u` which violates the domain constraint, and if violated reject the\nstep and use a smaller `dt`. However, the throwing of this error will have halted the solving process.\n\nThus the recommended fix is to replace this function with the equivalent ones from NaNMath.jl\n(https://github.com/JuliaMath/NaNMath.jl) which returns a NaN instead of an error. The solver will then\neffectively use the NaN within the error control routines to reject the out of bounds step. Additionally,\none could perform a domain transformation on the variables so that such an issue does not occur in the\ndefinition of `f`.\n\nFor more information, check out the following FAQ page:\nhttps://docs.sciml.ai/Optimization/stable/API/FAQ/#The-Solver-Seems-to-Violate-Constraints-During-the-Optimization,-Causing-DomainErrors,-What-Can-I-Do-About-That?\n",
     "output_type": "error",
     "traceback": [
      "DomainError with -3.7748908205601475:\n",
      "log was called with a negative real argument but will only return a complex result if called with a complex argument. Try log(Complex(x)).\n",
      "DomainError detected in the user `f` function. This occurs when the domain of a function is violated.\n",
      "For example, `log(-1.0)` is undefined because `log` of a real number is defined to only output real\n",
      "numbers, but `log` of a negative number is complex valued and therefore Julia throws a DomainError\n",
      "by default. Cases to be aware of include:\n",
      "\n",
      "* `log(x)`, `sqrt(x)`, `cbrt(x)`, etc. where `x<0`\n",
      "* `x^y` for `x<0` floating point `y` (example: `(-1.0)^(1/2) == im`)\n",
      "\n",
      "Within the context of SciML, this error can occur within the solver process even if the domain constraint\n",
      "would not be violated in the solution due to adaptivity. For example, an ODE solver or optimization\n",
      "routine may check a step at `new_u` which violates the domain constraint, and if violated reject the\n",
      "step and use a smaller `dt`. However, the throwing of this error will have halted the solving process.\n",
      "\n",
      "Thus the recommended fix is to replace this function with the equivalent ones from NaNMath.jl\n",
      "(https://github.com/JuliaMath/NaNMath.jl) which returns a NaN instead of an error. The solver will then\n",
      "effectively use the NaN within the error control routines to reject the out of bounds step. Additionally,\n",
      "one could perform a domain transformation on the variables so that such an issue does not occur in the\n",
      "definition of `f`.\n",
      "\n",
      "For more information, check out the following FAQ page:\n",
      "https://docs.sciml.ai/Optimization/stable/API/FAQ/#The-Solver-Seems-to-Violate-Constraints-During-the-Optimization,-Causing-DomainErrors,-What-Can-I-Do-About-That?\n",
      "\n",
      "\n",
      "Stacktrace:\n",
      "  [1] throw_complex_domainerror(f::Symbol, x::Float64)\n",
      "    @ Base.Math ./math.jl:33\n",
      "  [2] _log(x::Float64, base::Val{:ℯ}, func::Symbol)\n",
      "    @ Base.Math ./special/log.jl:301\n",
      "  [3] log\n",
      "    @ ./special/log.jl:267 [inlined]\n",
      "  [4] _broadcast_getindex_evalf\n",
      "    @ ./broadcast.jl:709 [inlined]\n",
      "  [5] _broadcast_getindex\n",
      "    @ ./broadcast.jl:682 [inlined]\n",
      "  [6] _getindex\n",
      "    @ ./broadcast.jl:706 [inlined]\n",
      "  [7] _getindex\n",
      "    @ ./broadcast.jl:705 [inlined]\n",
      "  [8] _broadcast_getindex\n",
      "    @ ./broadcast.jl:681 [inlined]\n",
      "  [9] getindex\n",
      "    @ ./broadcast.jl:636 [inlined]\n",
      " [10] macro expansion\n",
      "    @ ./broadcast.jl:1004 [inlined]\n",
      " [11] macro expansion\n",
      "    @ ./simdloop.jl:77 [inlined]\n",
      " [12] copyto!\n",
      "    @ ./broadcast.jl:1003 [inlined]\n",
      " [13] copyto!\n",
      "    @ ./broadcast.jl:956 [inlined]\n",
      " [14] copy\n",
      "    @ ./broadcast.jl:928 [inlined]\n",
      " [15] materialize\n",
      "    @ ./broadcast.jl:903 [inlined]\n",
      " [16] KL_divergence(p::SubArray{Int64, 1, Matrix{Int64}, Tuple{Int64, Base.Slice{Base.OneTo{Int64}}}, true}, q::SubArray{Float64, 1, Matrix{Float64}, Tuple{Int64, Base.Slice{Base.OneTo{Int64}}}, true})\n",
      "    @ Main ~/VSCodeProjects/BeliefCompression/ExpFamilyPCA/demos/poisson_benchmark.ipynb:7\n",
      " [17] #25\n",
      "    @ ./none:0 [inlined]\n",
      " [18] iterate\n",
      "    @ ./generator.jl:47 [inlined]\n",
      " [19] collect_to!(dest::Vector{Float64}, itr::Base.Generator{Base.Iterators.Zip{Tuple{RowSlices{Matrix{Int64}, Tuple{Base.OneTo{Int64}}, SubArray{Int64, 1, Matrix{Int64}, Tuple{Int64, Base.Slice{Base.OneTo{Int64}}}, true}}, RowSlices{Matrix{Float64}, Tuple{Base.OneTo{Int64}}, SubArray{Float64, 1, Matrix{Float64}, Tuple{Int64, Base.Slice{Base.OneTo{Int64}}}, true}}}}, var\"#25#26\"}, offs::Int64, st::Tuple{Tuple{Base.OneTo{Int64}, Int64}, Tuple{Base.OneTo{Int64}, Int64}})\n",
      "    @ Base ./array.jl:892\n",
      " [20] collect_to_with_first!\n",
      "    @ ./array.jl:870 [inlined]\n",
      " [21] collect(itr::Base.Generator{Base.Iterators.Zip{Tuple{RowSlices{Matrix{Int64}, Tuple{Base.OneTo{Int64}}, SubArray{Int64, 1, Matrix{Int64}, Tuple{Int64, Base.Slice{Base.OneTo{Int64}}}, true}}, RowSlices{Matrix{Float64}, Tuple{Base.OneTo{Int64}}, SubArray{Float64, 1, Matrix{Float64}, Tuple{Int64, Base.Slice{Base.OneTo{Int64}}}, true}}}}, var\"#25#26\"})\n",
      "    @ Base ./array.jl:844\n",
      " [22] top-level scope\n",
      "    @ ~/VSCodeProjects/BeliefCompression/ExpFamilyPCA/demos/poisson_benchmark.ipynb:9"
     ]
    }
   ],
   "source": [
    "using LinearAlgebra\n",
    "using Statistics\n",
    "\n",
    "dist1 = X .- recon1\n",
    "dist2 = X .- recon2\n",
    "\n",
    "KL_divergence(p, q) = sum(p .* log.(p ./ q))\n",
    "KL1 = mean([KL_divergence(p, q) for (p, q) in zip(eachrow(X), eachrow(recon1))])\n",
    "KL2 = mean([KL_divergence(p, q) for (p, q) in zip(eachrow(X), eachrow(recon2))])\n",
    "\n",
    "# From theory, we expect the EPCA reconstruction to do better on the L1 norm but worse on L2\n",
    "println(\"EPCA L2:\", norm(dist1, 2))\n",
    "println(\"PCA L2:\", norm(dist2, 2))\n",
    "println()\n",
    "println(\"EPCA KL:\", KL1)\n",
    "println(\"PCA KL:\", KL2)"
   ]
  }
 ],
 "metadata": {
  "kernelspec": {
   "display_name": "Julia 1.10.1",
   "language": "julia",
   "name": "julia-1.10"
  },
  "language_info": {
   "file_extension": ".jl",
   "mimetype": "application/julia",
   "name": "julia",
   "version": "1.10.1"
  }
 },
 "nbformat": 4,
 "nbformat_minor": 2
}
