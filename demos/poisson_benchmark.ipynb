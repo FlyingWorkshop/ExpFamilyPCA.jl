{
 "cells": [
  {
   "cell_type": "code",
   "execution_count": 23,
   "metadata": {},
   "outputs": [
    {
     "name": "stdout",
     "output_type": "stream",
     "text": [
      "3723.604496511967\n"
     ]
    },
    {
     "name": "stdout",
     "output_type": "stream",
     "text": [
      "3119.252242659718\n"
     ]
    },
    {
     "name": "stdout",
     "output_type": "stream",
     "text": [
      "2732.170294468625\n"
     ]
    },
    {
     "name": "stdout",
     "output_type": "stream",
     "text": [
      "2453.9359384726195\n"
     ]
    },
    {
     "name": "stdout",
     "output_type": "stream",
     "text": [
      "2334.2379924369325\n"
     ]
    },
    {
     "name": "stdout",
     "output_type": "stream",
     "text": [
      "2254.8586983885143\n"
     ]
    },
    {
     "name": "stdout",
     "output_type": "stream",
     "text": [
      "2200.1746371710906\n"
     ]
    },
    {
     "name": "stdout",
     "output_type": "stream",
     "text": [
      "2171.0356776386816\n"
     ]
    },
    {
     "name": "stdout",
     "output_type": "stream",
     "text": [
      "2131.0618756677222\n"
     ]
    },
    {
     "name": "stdout",
     "output_type": "stream",
     "text": [
      "2072.4285551263747\n"
     ]
    },
    {
     "name": "stdout",
     "output_type": "stream",
     "text": [
      "2021.6006800326222\n"
     ]
    },
    {
     "name": "stdout",
     "output_type": "stream",
     "text": [
      "2000.0258924420261\n"
     ]
    },
    {
     "name": "stdout",
     "output_type": "stream",
     "text": [
      "1966.8293687183873\n"
     ]
    },
    {
     "name": "stdout",
     "output_type": "stream",
     "text": [
      "1917.0980300066549\n"
     ]
    },
    {
     "name": "stdout",
     "output_type": "stream",
     "text": [
      "1898.1103847591808\n"
     ]
    },
    {
     "name": "stdout",
     "output_type": "stream",
     "text": [
      "1856.4776676426509\n"
     ]
    },
    {
     "name": "stdout",
     "output_type": "stream",
     "text": [
      "1818.2266035545456\n"
     ]
    },
    {
     "name": "stdout",
     "output_type": "stream",
     "text": [
      "1808.0917245549358\n"
     ]
    },
    {
     "name": "stdout",
     "output_type": "stream",
     "text": [
      "1781.1451981968585\n"
     ]
    },
    {
     "name": "stdout",
     "output_type": "stream",
     "text": [
      "1732.732965342181\n"
     ]
    },
    {
     "name": "stdout",
     "output_type": "stream",
     "text": [
      "1728.4168978612315\n"
     ]
    },
    {
     "name": "stdout",
     "output_type": "stream",
     "text": [
      "1726.0624489999905\n"
     ]
    },
    {
     "name": "stdout",
     "output_type": "stream",
     "text": [
      "1723.976210742987\n"
     ]
    },
    {
     "name": "stdout",
     "output_type": "stream",
     "text": [
      "1722.1120734858061\n"
     ]
    },
    {
     "name": "stdout",
     "output_type": "stream",
     "text": [
      "1720.2596007225516\n"
     ]
    },
    {
     "name": "stdout",
     "output_type": "stream",
     "text": [
      "1718.5495451805284\n"
     ]
    },
    {
     "name": "stdout",
     "output_type": "stream",
     "text": [
      "1716.8127808380134\n"
     ]
    },
    {
     "name": "stdout",
     "output_type": "stream",
     "text": [
      "1715.0850790741865\n"
     ]
    },
    {
     "name": "stdout",
     "output_type": "stream",
     "text": [
      "1713.3941175568532\n"
     ]
    },
    {
     "name": "stdout",
     "output_type": "stream",
     "text": [
      "1711.597293574959\n"
     ]
    },
    {
     "name": "stdout",
     "output_type": "stream",
     "text": [
      "1709.8033291338897\n"
     ]
    },
    {
     "name": "stdout",
     "output_type": "stream",
     "text": [
      "1707.9554483081724\n"
     ]
    },
    {
     "name": "stdout",
     "output_type": "stream",
     "text": [
      "1706.0352186937384\n"
     ]
    },
    {
     "name": "stdout",
     "output_type": "stream",
     "text": [
      "1704.005407998237\n"
     ]
    },
    {
     "name": "stdout",
     "output_type": "stream",
     "text": [
      "1701.8242592481\n"
     ]
    },
    {
     "name": "stdout",
     "output_type": "stream",
     "text": [
      "1699.4909359543742\n"
     ]
    },
    {
     "name": "stdout",
     "output_type": "stream",
     "text": [
      "1697.2884063260424\n"
     ]
    },
    {
     "name": "stdout",
     "output_type": "stream",
     "text": [
      "1694.9657819867812\n"
     ]
    },
    {
     "name": "stdout",
     "output_type": "stream",
     "text": [
      "1692.6624125292433\n"
     ]
    },
    {
     "name": "stdout",
     "output_type": "stream",
     "text": [
      "1690.1953048539172\n"
     ]
    },
    {
     "name": "stdout",
     "output_type": "stream",
     "text": [
      "1687.528700995563\n"
     ]
    },
    {
     "name": "stdout",
     "output_type": "stream",
     "text": [
      "1684.7909314524245\n"
     ]
    },
    {
     "name": "stdout",
     "output_type": "stream",
     "text": [
      "1681.7465670440101\n"
     ]
    },
    {
     "name": "stdout",
     "output_type": "stream",
     "text": [
      "1678.7150590373517\n"
     ]
    },
    {
     "name": "stdout",
     "output_type": "stream",
     "text": [
      "1675.4275643921787\n"
     ]
    },
    {
     "name": "stdout",
     "output_type": "stream",
     "text": [
      "1672.1617794332037\n"
     ]
    },
    {
     "name": "stdout",
     "output_type": "stream",
     "text": [
      "1668.7162541417997\n"
     ]
    },
    {
     "name": "stdout",
     "output_type": "stream",
     "text": [
      "1664.9901904542648\n"
     ]
    },
    {
     "name": "stdout",
     "output_type": "stream",
     "text": [
      "1661.1373948802773\n"
     ]
    },
    {
     "name": "stdout",
     "output_type": "stream",
     "text": [
      "1657.1914136066762\n"
     ]
    },
    {
     "data": {
      "text/plain": [
       "100×30 Matrix{Float64}:\n",
       " 0.00267027   0.880563  0.880619  …  0.00312499   0.88065   0.00258198\n",
       " 0.0236374    0.931033  0.931069     0.0271028    0.931085  0.0237297\n",
       " 0.0104136    0.92137   0.921414     0.0125749    0.921429  0.0106179\n",
       " 0.00270431   0.894836  0.894891     0.00338058   0.894914  0.00273419\n",
       " 0.000495997  0.860712  0.860782     0.000641881  0.860813  0.000493225\n",
       " 0.0218376    0.933748  0.933785  …  0.0255818    0.933798  0.0221997\n",
       " 0.0141447    0.918299  0.918341     0.0162525    0.91836   0.0140494\n",
       " 0.000179691  0.860377  0.860455     0.000261327  0.860479  0.000188705\n",
       " 0.00737848   0.915876  0.915923     0.00904524   0.915939  0.00753854\n",
       " 0.00290354   0.897157  0.897212     0.003639     0.897233  0.00294563\n",
       " ⋮                                ⋱                         \n",
       " 0.010619     0.919618  0.919662     0.0126921    0.919678  0.0107579\n",
       " 0.000580401  0.86293   0.862998     0.000745479  0.863029  0.000576371\n",
       " 0.0244882    0.93512   0.935157     0.0284812    0.935169  0.0248409\n",
       " 0.0068828    0.809257  0.809306     0.00506234   0.809387  0.00498076\n",
       " 0.0127402    0.923994  0.924036  …  0.0152073    0.924051  0.0129507\n",
       " 0.0335518    0.940444  0.940477     0.0385228    0.940489  0.0339922\n",
       " 0.00640668   0.909463  0.909511     0.00775243   0.90953   0.00646719\n",
       " 0.00771969   0.917441  0.917487     0.00948144   0.917503  0.00790557\n",
       " 0.000267016  0.862101  0.862175     0.000373931  0.862201  0.00027594"
      ]
     },
     "metadata": {},
     "output_type": "display_data"
    }
   ],
   "source": [
    "using ExpFamilyPCA\n",
    "\n",
    "n_samples = 100\n",
    "n_dims = 30\n",
    "X = rand(n_samples, n_dims)  # generate fake probability data\n",
    "X ./= sum(X, dims=2)\n",
    "\n",
    "n_components = 2\n",
    "epca = PoissonPCA(n_components, n_dims)\n",
    "fit!(epca, X; verbose=true, maxiter=50)\n",
    "\n",
    "X̃1 = compress(epca, X)\n",
    "recon1 = decompress(epca, X̃1)"
   ]
  },
  {
   "cell_type": "code",
   "execution_count": 21,
   "metadata": {},
   "outputs": [
    {
     "data": {
      "text/plain": [
       "20×30 Matrix{Float64}:\n",
       " 4.66405  3.28828   6.14938  4.86417  …  5.52828  5.06016  4.78345  3.66033\n",
       " 7.22794  7.67265   8.6317   5.56508     4.81418  5.1751   3.71935  7.11116\n",
       " 4.17289  2.74542   4.86172  5.10359     6.03527  5.45473  5.86671  3.33108\n",
       " 6.45575  7.69715   6.15615  5.39234     4.49687  5.03505  4.43117  7.1177\n",
       " 5.16959  4.92751   6.42925  4.3579      4.1906   4.2193   3.35178  4.75916\n",
       " 6.64637  8.74855   5.80741  5.12692  …  3.70494  4.57939  3.82879  7.84498\n",
       " 4.95375  5.96327   4.8271   3.98972     3.22821  3.67888  3.09184  5.46466\n",
       " 4.29828  3.24354   2.95944  6.55352     7.76789  7.13335  8.95335  4.10904\n",
       " 5.23289  3.50561   7.86475  4.83347     5.44895  4.94656  3.97003  3.79308\n",
       " 6.14179  4.79822  10.3917   3.96248     3.81425  3.66854  1.10226  4.50594\n",
       " 5.51206  6.92703   3.90421  5.37425  …  4.71403  5.18657  5.53693  6.56316\n",
       " 4.75759  3.90115   4.64312  5.76369     6.47289  6.06587  6.74591  4.37613\n",
       " 5.79188  7.10886   4.38468  5.58787     4.94797  5.39771  5.65058  6.74927\n",
       " 7.14222  8.06602   8.64999  4.88265     3.72365  4.3167   2.44776  7.22947\n",
       " 6.0369   7.5518    5.36897  4.99567     3.98897  4.61208  4.12313  6.91549\n",
       " 4.73473  5.19917   2.41729  6.20777  …  6.50049  6.45647  8.03941  5.49889\n",
       " 5.09072  5.68714   3.19901  6.0625      6.12976  6.19387  7.33728  5.81809\n",
       " 5.89328  5.9175    6.28917  5.53173     5.39991  5.4551   5.11382  5.81211\n",
       " 6.6252   7.17499   8.06627  4.81917     3.97463  4.38807  2.82981  6.54978\n",
       " 4.91428  4.84059   5.9062   4.15101     3.92689  4.00332  3.24017  4.64684"
      ]
     },
     "metadata": {},
     "output_type": "display_data"
    }
   ],
   "source": [
    "using MultivariateStats\n",
    "\n",
    "M = fit(PCA, X; maxoutdim=n_components)\n",
    "X̃2 = predict(M, X)\n",
    "recon2 = reconstruct(M, X̃2)"
   ]
  },
  {
   "cell_type": "code",
   "execution_count": 22,
   "metadata": {},
   "outputs": [
    {
     "name": "stdout",
     "output_type": "stream",
     "text": [
      "EPCA L2:70.43625010270905\n",
      "PCA L2:59.609249527403364\n",
      "\n",
      "EPCA KL:34.93761923913772\n",
      "PCA KL:828.9722271856319\n"
     ]
    }
   ],
   "source": [
    "using LinearAlgebra\n",
    "using Statistics\n",
    "\n",
    "dist1 = X .- recon1\n",
    "dist2 = X .- recon2\n",
    "\n",
    "KL_divergence(p, q) = sum(p .* log.(p ./ q))\n",
    "KL1 = mean([KL_divergence(p, q) for (p, q) in zip(eachrow(X), eachrow(recon1))])\n",
    "KL2 = mean([KL_divergence(p, normalize(abs.(q), 1)) for (p, q) in zip(eachrow(X), eachrow(recon2))])\n",
    "\n",
    "# From theory, we expect the EPCA reconstruction to do better on the L1 norm but worse on L2\n",
    "println(\"EPCA L2:\", norm(dist1, 2))\n",
    "println(\"PCA L2:\", norm(dist2, 2))\n",
    "println()\n",
    "println(\"EPCA KL:\", KL1)\n",
    "println(\"PCA KL:\", KL2)"
   ]
  }
 ],
 "metadata": {
  "kernelspec": {
   "display_name": "Julia 1.10.1",
   "language": "julia",
   "name": "julia-1.10"
  },
  "language_info": {
   "file_extension": ".jl",
   "mimetype": "application/julia",
   "name": "julia",
   "version": "1.10.1"
  }
 },
 "nbformat": 4,
 "nbformat_minor": 2
}
