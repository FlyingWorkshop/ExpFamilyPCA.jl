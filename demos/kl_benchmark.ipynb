{
 "cells": [
  {
   "cell_type": "code",
   "execution_count": 9,
   "metadata": {},
   "outputs": [
    {
     "name": "stderr",
     "output_type": "stream",
     "text": [
      "\u001b[32m\u001b[1m  No Changes\u001b[22m\u001b[39m to `~/VSCodeProjects/BeliefCompression/ExpFamilyPCA/Project.toml`\n",
      "\u001b[32m\u001b[1m    Updating\u001b[22m\u001b[39m `~/VSCodeProjects/BeliefCompression/ExpFamilyPCA/Manifest.toml`\n"
     ]
    },
    {
     "name": "stderr",
     "output_type": "stream",
     "text": [
      "  \u001b[90m[7d9fca2a] \u001b[39m\u001b[92m+ Arpack v0.5.4\u001b[39m\n",
      "  \u001b[90m[6f286f6a] \u001b[39m\u001b[92m+ MultivariateStats v0.10.2\u001b[39m\n",
      "  \u001b[90m[08074719] \u001b[39m\u001b[91m- POMDPModelTools v0.3.13\u001b[39m\n",
      "  \u001b[90m[e0d0a172] \u001b[39m\u001b[91m- POMDPSimulators v0.3.14\u001b[39m\n",
      "\u001b[33m⌅\u001b[39m \u001b[90m[68821587] \u001b[39m\u001b[92m+ Arpack_jll v3.5.1+1\u001b[39m\n",
      "\u001b[36m\u001b[1m        Info\u001b[22m\u001b[39m Packages marked with \u001b[33m⌅\u001b[39m have new versions available but compatibility constraints restrict them from upgrading. To see why use `status --outdated -m`\n"
     ]
    }
   ],
   "source": [
    "using Pkg\n",
    "# Pkg.develop(\"CompressedBeliefMDPs\")\n",
    "# Pkg.develop(\"ExpFamilyPCA\")\n",
    "Pkg.resolve()\n",
    "\n",
    "using CompressedBeliefMDPs\n",
    "using ExpFamilyPCA\n",
    "\n",
    "using POMDPs\n",
    "using POMDPModels\n",
    "using POMDPTools"
   ]
  },
  {
   "cell_type": "code",
   "execution_count": 4,
   "metadata": {},
   "outputs": [
    {
     "ename": "UndefVarError",
     "evalue": "UndefVarError: `TMaze` not defined",
     "output_type": "error",
     "traceback": [
      "UndefVarError: `TMaze` not defined\n",
      "\n",
      "Stacktrace:\n",
      " [1] top-level scope\n",
      "   @ ~/VSCodeProjects/BeliefCompression/ExpFamilyPCA/demos/kl_benchmark.ipynb:1"
     ]
    }
   ],
   "source": [
    "pomdp = TMaze(50, 0.99)"
   ]
  }
 ],
 "metadata": {
  "kernelspec": {
   "display_name": "Julia 1.10.2",
   "language": "julia",
   "name": "julia-1.10"
  },
  "language_info": {
   "file_extension": ".jl",
   "mimetype": "application/julia",
   "name": "julia",
   "version": "1.10.2"
  }
 },
 "nbformat": 4,
 "nbformat_minor": 2
}
