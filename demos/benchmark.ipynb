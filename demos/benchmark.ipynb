{
 "cells": [
  {
   "cell_type": "code",
   "execution_count": 13,
   "metadata": {},
   "outputs": [
    {
     "name": "stdout",
     "output_type": "stream",
     "text": [
      "Loss: 346.57359027997245\n",
      "Loss: "
     ]
    },
    {
     "name": "stdout",
     "output_type": "stream",
     "text": [
      "339.4651260162266\n"
     ]
    },
    {
     "name": "stdout",
     "output_type": "stream",
     "text": [
      "Loss: 326.83851096508596\n",
      "Loss: "
     ]
    },
    {
     "name": "stdout",
     "output_type": "stream",
     "text": [
      "313.16798822607956\n"
     ]
    },
    {
     "name": "stdout",
     "output_type": "stream",
     "text": [
      "Loss: 300.47024994515317\n",
      "Loss: "
     ]
    },
    {
     "name": "stdout",
     "output_type": "stream",
     "text": [
      "287.68813149707574\n"
     ]
    },
    {
     "name": "stdout",
     "output_type": "stream",
     "text": [
      "Loss: 278.5198879020468\n",
      "Loss: "
     ]
    },
    {
     "name": "stdout",
     "output_type": "stream",
     "text": [
      "272.07194894059666\n"
     ]
    },
    {
     "name": "stdout",
     "output_type": "stream",
     "text": [
      "Loss: 267.2032539001495\n",
      "Loss: "
     ]
    }
   ],
   "source": [
    "using ExpFamilyPCA\n",
    "\n",
    "n_samples = 10\n",
    "n_dims = 5\n",
    "X = rand(0:1, n_samples, n_dims)  # generate random binary data\n",
    "\n",
    "n_components = 2\n",
    "epca = BernoulliPCA(n_components, n_dims)\n",
    "fit!(epca, X; verbose=true, maxiter=10)\n",
    "\n",
    "X̃1 = compress(epca, X)\n",
    "recon1 = decompress(epca, X̃1)"
   ]
  },
  {
   "cell_type": "code",
   "execution_count": null,
   "metadata": {},
   "outputs": [],
   "source": [
    "using MultivariateStats\n",
    "\n",
    "M = fit(PCA, X; maxoutdim=n_components)\n",
    "X̃2 = predict(M, X)\n",
    "recon2 = reconstruct(M, X̃2)"
   ]
  },
  {
   "cell_type": "code",
   "execution_count": null,
   "metadata": {},
   "outputs": [],
   "source": [
    "using LinearAlgebra\n",
    "\n",
    "dist1 = X .- recon1\n",
    "dist2 = X .- recon2\n",
    "\n",
    "# From theory, we expect the EPCA reconstruction to do better on the L1 norm but worse on L2\n",
    "println(\"EPCA L1:\", norm(dist1, 1))\n",
    "println(\"PCA L1:\", norm(dist2, 1))\n",
    "println()\n",
    "println(\"EPCA L2:\", norm(dist1, 2))\n",
    "println(\"PCA L2:\", norm(dist2, 2))"
   ]
  }
 ],
 "metadata": {
  "kernelspec": {
   "display_name": "Julia 1.10.1",
   "language": "julia",
   "name": "julia-1.10"
  },
  "language_info": {
   "file_extension": ".jl",
   "mimetype": "application/julia",
   "name": "julia",
   "version": "1.10.1"
  }
 },
 "nbformat": 4,
 "nbformat_minor": 2
}
