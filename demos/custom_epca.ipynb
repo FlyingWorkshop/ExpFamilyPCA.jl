{
 "cells": [
  {
   "cell_type": "code",
   "execution_count": 2,
   "metadata": {},
   "outputs": [
    {
     "name": "stdout",
     "output_type": "stream",
     "text": [
      "-538.7928326875457\n"
     ]
    },
    {
     "name": "stdout",
     "output_type": "stream",
     "text": [
      "-692.9406810373927\n"
     ]
    },
    {
     "name": "stdout",
     "output_type": "stream",
     "text": [
      "-693.0129701762987\n"
     ]
    },
    {
     "name": "stdout",
     "output_type": "stream",
     "text": [
      "-693.030579782313\n"
     ]
    },
    {
     "name": "stdout",
     "output_type": "stream",
     "text": [
      "-693.0312855390176\n"
     ]
    },
    {
     "name": "stdout",
     "output_type": "stream",
     "text": [
      "-693.0321656858174\n"
     ]
    },
    {
     "name": "stdout",
     "output_type": "stream",
     "text": [
      "-693.033504639585\n"
     ]
    },
    {
     "name": "stdout",
     "output_type": "stream",
     "text": [
      "-693.0344314484549\n"
     ]
    },
    {
     "name": "stdout",
     "output_type": "stream",
     "text": [
      "-693.0355052008783\n"
     ]
    },
    {
     "name": "stdout",
     "output_type": "stream",
     "text": [
      "-693.0367590091735\n"
     ]
    },
    {
     "name": "stdout",
     "output_type": "stream",
     "text": [
      "-693.0383085993361\n"
     ]
    },
    {
     "name": "stdout",
     "output_type": "stream",
     "text": [
      "-693.0395117451338\n"
     ]
    },
    {
     "name": "stdout",
     "output_type": "stream",
     "text": [
      "-693.0401769664122\n"
     ]
    },
    {
     "name": "stdout",
     "output_type": "stream",
     "text": [
      "-693.0407194933626\n"
     ]
    },
    {
     "name": "stdout",
     "output_type": "stream",
     "text": [
      "-693.0412497208985\n"
     ]
    },
    {
     "name": "stdout",
     "output_type": "stream",
     "text": [
      "-693.0417444996219\n"
     ]
    },
    {
     "name": "stdout",
     "output_type": "stream",
     "text": [
      "-693.0422605135259\n"
     ]
    },
    {
     "name": "stdout",
     "output_type": "stream",
     "text": [
      "-693.0425865715275\n"
     ]
    },
    {
     "name": "stdout",
     "output_type": "stream",
     "text": [
      "-693.0427770187156\n"
     ]
    },
    {
     "name": "stdout",
     "output_type": "stream",
     "text": [
      "-693.0429750976114\n"
     ]
    },
    {
     "data": {
      "text/plain": [
       "10×20 Matrix{Float64}:\n",
       " 0.0427903  0.0683714  0.0497864  …  0.0485338  0.0503205  0.056001\n",
       " 0.0457639  0.0814763  0.0398526     0.0648663  0.0513335  0.0350643\n",
       " 0.0431742  0.0702381  0.0479121     0.0507921  0.0503863  0.0517738\n",
       " 0.0465944  0.0780984  0.0466232     0.0591181  0.0533446  0.0461568\n",
       " 0.0347881  0.0514196  0.0532067     0.0323308  0.0430478  0.0754269\n",
       " 0.0437256  0.0887922  0.0281989  …  0.0787887  0.0469405  0.019226\n",
       " 0.0381626  0.0570858  0.0545954     0.0371144  0.0465532  0.0731526\n",
       " 0.0396986  0.0601696  0.0541301     0.0399727  0.0479891  0.0696428\n",
       " 0.0384958  0.0591698  0.051379      0.0395146  0.0464462  0.064907\n",
       " 0.0425698  0.0664774  0.0524719     0.0461579  0.0505162  0.0619823"
      ]
     },
     "metadata": {},
     "output_type": "display_data"
    }
   ],
   "source": [
    "using ExpFamilyPCA\n",
    "\n",
    "n_samples = 10\n",
    "n_dims = 20\n",
    "X = rand(n_samples, n_dims)  # generate fake probability data\n",
    "X ./= sum(X, dims=2)\n",
    "\n",
    "n_components = 2\n",
    "epca = EPCA(n_components, n_dims, x->exp(x), 1)\n",
    "fit!(epca, X; verbose=true, maxiter=20)\n",
    "\n",
    "X̃1 = compress(epca, X)\n",
    "recon1 = decompress(epca, X̃1)"
   ]
  }
 ],
 "metadata": {
  "kernelspec": {
   "display_name": "Julia 1.10.1",
   "language": "julia",
   "name": "julia-1.10"
  },
  "language_info": {
   "file_extension": ".jl",
   "mimetype": "application/julia",
   "name": "julia",
   "version": "1.10.1"
  }
 },
 "nbformat": 4,
 "nbformat_minor": 2
}
