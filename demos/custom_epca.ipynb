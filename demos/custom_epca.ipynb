{
 "cells": [
  {
   "cell_type": "code",
   "execution_count": 2,
   "metadata": {},
   "outputs": [
    {
     "name": "stdout",
     "output_type": "stream",
     "text": [
      "-538.7928326875457\n"
     ]
    },
    {
     "name": "stdout",
     "output_type": "stream",
     "text": [
      "-692.9406810373927\n"
     ]
    },
    {
     "name": "stdout",
     "output_type": "stream",
     "text": [
      "-693.0129701762987\n"
     ]
    },
    {
     "name": "stdout",
     "output_type": "stream",
     "text": [
      "-693.030579782313\n"
     ]
    },
    {
     "name": "stdout",
     "output_type": "stream",
     "text": [
      "-693.0312855390176\n"
     ]
    },
    {
     "name": "stdout",
     "output_type": "stream",
     "text": [
      "-693.0321656858174\n"
     ]
    },
    {
     "name": "stdout",
     "output_type": "stream",
     "text": [
      "-693.033504639585\n"
     ]
    },
    {
     "name": "stdout",
     "output_type": "stream",
     "text": [
      "-693.0344314484549\n"
     ]
    },
    {
     "name": "stdout",
     "output_type": "stream",
     "text": [
      "-693.0355052008783\n"
     ]
    },
    {
     "name": "stdout",
     "output_type": "stream",
     "text": [
      "-693.0367590091735\n"
     ]
    },
    {
     "name": "stdout",
     "output_type": "stream",
     "text": [
      "-693.0383085993361\n"
     ]
    },
    {
     "name": "stdout",
     "output_type": "stream",
     "text": [
      "-693.0395117451338\n"
     ]
    }
   ],
   "source": [
    "using ExpFamilyPCA\n",
    "\n",
    "n_samples = 10\n",
    "n_dims = 20\n",
    "X = rand(n_samples, n_dims)  # generate fake probability data\n",
    "X ./= sum(X, dims=2)\n",
    "\n",
    "n_components = 2\n",
    "epca = EPCA(n_components, n_dims, x->exp(x), 1)\n",
    "fit!(epca, X; verbose=true, maxiter=20)\n",
    "\n",
    "X̃1 = compress(epca, X)\n",
    "recon1 = decompress(epca, X̃1)"
   ]
  }
 ],
 "metadata": {
  "kernelspec": {
   "display_name": "Julia 1.10.1",
   "language": "julia",
   "name": "julia-1.10"
  },
  "language_info": {
   "file_extension": ".jl",
   "mimetype": "application/julia",
   "name": "julia",
   "version": "1.10.1"
  }
 },
 "nbformat": 4,
 "nbformat_minor": 2
}
