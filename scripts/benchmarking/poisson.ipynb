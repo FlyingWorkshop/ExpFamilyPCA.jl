{
 "cells": [
  {
   "cell_type": "code",
   "execution_count": 1,
   "metadata": {},
   "outputs": [
    {
     "data": {
      "text/plain": [
       "TaskLocalRNG()"
      ]
     },
     "metadata": {},
     "output_type": "display_data"
    }
   ],
   "source": [
    "using ExpFamilyPCA\n",
    "using CompressedBeliefMDPs\n",
    "\n",
    "using BenchmarkTools\n",
    "using Random\n",
    "using Plots\n",
    "using Statistics\n",
    "using Distances\n",
    "\n",
    "Random.seed!(1)"
   ]
  },
  {
   "cell_type": "code",
   "execution_count": 2,
   "metadata": {},
   "outputs": [
    {
     "data": {
      "text/plain": [
       "92×101 Matrix{Float64}:\n",
       " 0.00626732  0.00624271  0.00626732  …  0.00646361  0.00634106  0.0\n",
       " 0.0         0.0         0.0            0.0         0.0         1.0\n",
       " 0.0124854   0.0125346   0.0126821      0.0         0.0         0.0\n",
       " 0.0165572   0.0166623   0.0168181      0.0         0.0         0.0\n",
       " 0.0184335   0.0184212   0.0184335      0.0         0.0         0.0\n",
       " 0.0193284   0.019361    0.0194036   …  0.0         0.0         0.0\n",
       " 0.0196873   0.0196848   0.0196873      0.0         0.0         0.0\n",
       " 0.0198663   0.0198728   0.0198813      0.0         0.0         0.0\n",
       " 0.0199378   0.0199373   0.0199378      0.0         0.0         0.0\n",
       " 0.0199734   0.0199747   0.0199764      0.0         0.0         0.0\n",
       " ⋮                                   ⋱                          ⋮\n",
       " 0.0         0.0         0.0            0.0198597   0.0198619   0.0\n",
       " 0.0184335   0.0184212   0.0184335      0.0         0.0         0.0\n",
       " 0.0192953   0.0193064   0.0193284   …  0.0         0.0         0.0\n",
       " 0.0196873   0.0196848   0.0196873      0.0         0.0         0.0\n",
       " 0.0165572   0.0166623   0.0168181      0.0         0.0         0.0\n",
       " 0.0184212   0.0184335   0.0184703      0.0         0.0         0.0\n",
       " 0.00626732  0.00624271  0.00626732     0.00646361  0.00634106  0.0\n",
       " 0.0192953   0.0192953   0.0193064   …  0.0         0.0         0.0\n",
       " 0.0196873   0.0196947   0.0197069      0.0         0.0         0.0"
      ]
     },
     "metadata": {},
     "output_type": "display_data"
    }
   ],
   "source": [
    "n_corridors = 2\n",
    "corridor_length = 50\n",
    "maze = CircularMaze(n_corridors, corridor_length)\n",
    "sampler = PolicySampler(maze, n=200)\n",
    "raw_beliefs = sampler(maze)\n",
    "beliefs = make_numerical(raw_beliefs, maze)"
   ]
  },
  {
   "cell_type": "code",
   "execution_count": 5,
   "metadata": {},
   "outputs": [
    {
     "data": {
      "text/plain": [
       "3"
      ]
     },
     "metadata": {},
     "output_type": "display_data"
    }
   ],
   "source": [
    "outdim = 3"
   ]
  },
  {
   "cell_type": "code",
   "execution_count": 6,
   "metadata": {},
   "outputs": [
    {
     "data": {
      "text/plain": [
       "BenchmarkTools.Trial: 1 sample with 1 evaluation.\n",
       " Single result which took \u001b[34m15.507 s\u001b[39m (7.22% GC) to evaluate,\n",
       " with a memory estimate of \u001b[33m23.53 GiB\u001b[39m, over \u001b[33m1112649\u001b[39m allocations."
      ]
     },
     "metadata": {},
     "output_type": "display_data"
    }
   ],
   "source": [
    "@benchmark ExpFamilyPCA.fit!(\n",
    "\tPoissonEPCA(size(beliefs)[2], outdim),\n",
    "\tbeliefs;\n",
    "\tmaxiter=30,\n",
    ")"
   ]
  },
  {
   "cell_type": "code",
   "execution_count": 8,
   "metadata": {},
   "outputs": [
    {
     "data": {
      "text/plain": [
       "BenchmarkTools.Trial: 1 sample with 1 evaluation.\n",
       " Single result which took \u001b[34m15.742 s\u001b[39m (8.21% GC) to evaluate,\n",
       " with a memory estimate of \u001b[33m23.53 GiB\u001b[39m, over \u001b[33m1112648\u001b[39m allocations."
      ]
     },
     "metadata": {},
     "output_type": "display_data"
    }
   ],
   "source": [
    "@benchmark ExpFamilyPCA.fit!(\n",
    "\tEPCA(\n",
    "\t    size(beliefs)[2],\n",
    "\t    outdim,\n",
    "\t    Distances.gkl_divergence,\n",
    "\t    exp,\n",
    "\t    Val((:Bregman, :g));\n",
    "\t    μ=1,\n",
    "\t    ϵ=eps()\n",
    "\t),\n",
    "\tbeliefs;\n",
    "\tmaxiter=30,\n",
    ")"
   ]
  }
 ],
 "metadata": {
  "kernelspec": {
   "display_name": "Julia 1.10.4",
   "language": "julia",
   "name": "julia-1.10"
  },
  "language_info": {
   "file_extension": ".jl",
   "mimetype": "application/julia",
   "name": "julia",
   "version": "1.10.4"
  }
 },
 "nbformat": 4,
 "nbformat_minor": 2
}
