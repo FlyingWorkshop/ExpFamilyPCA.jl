{
 "cells": [
  {
   "cell_type": "code",
   "execution_count": 1,
   "metadata": {},
   "outputs": [],
   "source": [
    "using ExpFamilyPCA\n",
    "using BenchmarkTools\n",
    "using Distances"
   ]
  },
  {
   "cell_type": "code",
   "execution_count": 11,
   "metadata": {},
   "outputs": [],
   "source": [
    "n = 5\n",
    "indim = 3\n",
    "outdim = 2\n",
    "X = rand(n, indim)\n",
    "\n",
    "ϵ = eps()\n",
    "G(θ) = exp(θ)\n",
    "g(θ) = exp(θ)\n",
    "F(x) = x * log(x + ϵ) - x\n",
    "f(x) = log(x + ϵ)\n",
    "Bregman = Distances.gkl_divergence\n",
    "μ = g(0);"
   ]
  },
  {
   "cell_type": "markdown",
   "metadata": {},
   "source": [
    "# Benchmarking"
   ]
  },
  {
   "cell_type": "markdown",
   "metadata": {},
   "source": [
    "## Default"
   ]
  },
  {
   "cell_type": "code",
   "execution_count": 12,
   "metadata": {},
   "outputs": [
    {
     "data": {
      "text/plain": [
       "BenchmarkTools.Trial: 27 samples with 1 evaluation.\n",
       " Range \u001b[90m(\u001b[39m\u001b[36m\u001b[1mmin\u001b[22m\u001b[39m … \u001b[35mmax\u001b[39m\u001b[90m):  \u001b[39m\u001b[36m\u001b[1m180.357 ms\u001b[22m\u001b[39m … \u001b[35m302.832 ms\u001b[39m  \u001b[90m┊\u001b[39m GC \u001b[90m(\u001b[39mmin … max\u001b[90m): \u001b[39m1.62% … 36.33%\n",
       " Time  \u001b[90m(\u001b[39m\u001b[34m\u001b[1mmedian\u001b[22m\u001b[39m\u001b[90m):     \u001b[39m\u001b[34m\u001b[1m181.893 ms               \u001b[22m\u001b[39m\u001b[90m┊\u001b[39m GC \u001b[90m(\u001b[39mmedian\u001b[90m):    \u001b[39m1.62%\n",
       " Time  \u001b[90m(\u001b[39m\u001b[32m\u001b[1mmean\u001b[22m\u001b[39m ± \u001b[32mσ\u001b[39m\u001b[90m):   \u001b[39m\u001b[32m\u001b[1m186.213 ms\u001b[22m\u001b[39m ± \u001b[32m 23.323 ms\u001b[39m  \u001b[90m┊\u001b[39m GC \u001b[90m(\u001b[39mmean ± σ\u001b[90m):  \u001b[39m3.72% ±  6.68%\n",
       "\n",
       "  \u001b[39m█\u001b[34m \u001b[39m\u001b[39m \u001b[32m \u001b[39m\u001b[39m \u001b[39m \u001b[39m \u001b[39m \u001b[39m \u001b[39m \u001b[39m \u001b[39m \u001b[39m \u001b[39m \u001b[39m \u001b[39m \u001b[39m \u001b[39m \u001b[39m \u001b[39m \u001b[39m \u001b[39m \u001b[39m \u001b[39m \u001b[39m \u001b[39m \u001b[39m \u001b[39m \u001b[39m \u001b[39m \u001b[39m \u001b[39m \u001b[39m \u001b[39m \u001b[39m \u001b[39m \u001b[39m \u001b[39m \u001b[39m \u001b[39m \u001b[39m \u001b[39m \u001b[39m \u001b[39m \u001b[39m \u001b[39m \u001b[39m \u001b[39m \u001b[39m \u001b[39m \u001b[39m \u001b[39m \u001b[39m \u001b[39m \u001b[39m \u001b[39m \u001b[39m \u001b[39m \u001b[39m \u001b[39m \u001b[39m \u001b[39m \u001b[39m \n",
       "  \u001b[39m█\u001b[34m▅\u001b[39m\u001b[39m▁\u001b[32m▁\u001b[39m\u001b[39m▁\u001b[39m▁\u001b[39m▁\u001b[39m▁\u001b[39m▁\u001b[39m▁\u001b[39m▁\u001b[39m▁\u001b[39m▁\u001b[39m▁\u001b[39m▁\u001b[39m▁\u001b[39m▁\u001b[39m▁\u001b[39m▁\u001b[39m▁\u001b[39m▁\u001b[39m▁\u001b[39m▁\u001b[39m▁\u001b[39m▁\u001b[39m▁\u001b[39m▁\u001b[39m▁\u001b[39m▁\u001b[39m▁\u001b[39m▁\u001b[39m▁\u001b[39m▁\u001b[39m▁\u001b[39m▁\u001b[39m▁\u001b[39m▁\u001b[39m▁\u001b[39m▁\u001b[39m▁\u001b[39m▁\u001b[39m▁\u001b[39m▁\u001b[39m▁\u001b[39m▁\u001b[39m▁\u001b[39m▁\u001b[39m▁\u001b[39m▁\u001b[39m▁\u001b[39m▁\u001b[39m▁\u001b[39m▁\u001b[39m▁\u001b[39m▁\u001b[39m▁\u001b[39m▁\u001b[39m▁\u001b[39m▁\u001b[39m▁\u001b[39m▃\u001b[39m \u001b[39m▁\n",
       "  180 ms\u001b[90m           Histogram: frequency by time\u001b[39m          303 ms \u001b[0m\u001b[1m<\u001b[22m\n",
       "\n",
       " Memory estimate\u001b[90m: \u001b[39m\u001b[33m522.61 MiB\u001b[39m, allocs estimate\u001b[90m: \u001b[39m\u001b[33m3994150\u001b[39m."
      ]
     },
     "metadata": {},
     "output_type": "display_data"
    }
   ],
   "source": [
    "@benchmark ExpFamilyPCA.fit!(\n",
    "\tPoissonEPCA($indim, $outdim),\n",
    "\t$X;\n",
    "\tmaxiter=30,\n",
    ")"
   ]
  },
  {
   "cell_type": "markdown",
   "metadata": {},
   "source": [
    "## EPCA 1"
   ]
  },
  {
   "cell_type": "code",
   "execution_count": 16,
   "metadata": {},
   "outputs": [
    {
     "data": {
      "text/plain": [
       "BenchmarkTools.Trial: 100 samples with 1 evaluation.\n",
       " Range \u001b[90m(\u001b[39m\u001b[36m\u001b[1mmin\u001b[22m\u001b[39m … \u001b[35mmax\u001b[39m\u001b[90m):  \u001b[39m\u001b[36m\u001b[1m46.410 ms\u001b[22m\u001b[39m … \u001b[35m164.967 ms\u001b[39m  \u001b[90m┊\u001b[39m GC \u001b[90m(\u001b[39mmin … max\u001b[90m): \u001b[39m1.26% … 69.18%\n",
       " Time  \u001b[90m(\u001b[39m\u001b[34m\u001b[1mmedian\u001b[22m\u001b[39m\u001b[90m):     \u001b[39m\u001b[34m\u001b[1m48.746 ms               \u001b[22m\u001b[39m\u001b[90m┊\u001b[39m GC \u001b[90m(\u001b[39mmedian\u001b[90m):    \u001b[39m2.63%\n",
       " Time  \u001b[90m(\u001b[39m\u001b[32m\u001b[1mmean\u001b[22m\u001b[39m ± \u001b[32mσ\u001b[39m\u001b[90m):   \u001b[39m\u001b[32m\u001b[1m50.471 ms\u001b[22m\u001b[39m ± \u001b[32m 11.722 ms\u001b[39m  \u001b[90m┊\u001b[39m GC \u001b[90m(\u001b[39mmean ± σ\u001b[90m):  \u001b[39m4.72% ±  6.71%\n",
       "\n",
       "  \u001b[39m \u001b[39m \u001b[39m \u001b[39m \u001b[39m \u001b[39m \u001b[39m \u001b[39m▁\u001b[39m \u001b[39m█\u001b[39m▆\u001b[39m \u001b[39m \u001b[39m▄\u001b[39m▁\u001b[39m▄\u001b[34m▃\u001b[39m\u001b[39m \u001b[39m \u001b[39m \u001b[39m▃\u001b[39m \u001b[39m \u001b[39m \u001b[39m \u001b[39m \u001b[39m▁\u001b[39m▁\u001b[32m \u001b[39m\u001b[39m \u001b[39m \u001b[39m \u001b[39m \u001b[39m \u001b[39m \u001b[39m \u001b[39m \u001b[39m \u001b[39m \u001b[39m \u001b[39m \u001b[39m \u001b[39m \u001b[39m \u001b[39m \u001b[39m \u001b[39m \u001b[39m \u001b[39m \u001b[39m \u001b[39m \u001b[39m \u001b[39m \u001b[39m \u001b[39m \u001b[39m \u001b[39m \u001b[39m \u001b[39m \u001b[39m \u001b[39m \u001b[39m \n",
       "  \u001b[39m▄\u001b[39m▁\u001b[39m▄\u001b[39m▆\u001b[39m▄\u001b[39m▆\u001b[39m▆\u001b[39m█\u001b[39m▆\u001b[39m█\u001b[39m█\u001b[39m▆\u001b[39m▇\u001b[39m█\u001b[39m█\u001b[39m█\u001b[34m█\u001b[39m\u001b[39m▆\u001b[39m▄\u001b[39m▇\u001b[39m█\u001b[39m▄\u001b[39m▁\u001b[39m▁\u001b[39m▁\u001b[39m▇\u001b[39m█\u001b[39m█\u001b[32m▁\u001b[39m\u001b[39m▇\u001b[39m▄\u001b[39m▁\u001b[39m▁\u001b[39m▇\u001b[39m▁\u001b[39m▁\u001b[39m▇\u001b[39m▄\u001b[39m▄\u001b[39m▁\u001b[39m▁\u001b[39m▁\u001b[39m▄\u001b[39m▁\u001b[39m▁\u001b[39m▁\u001b[39m▆\u001b[39m▁\u001b[39m▁\u001b[39m▁\u001b[39m▁\u001b[39m▁\u001b[39m▆\u001b[39m▁\u001b[39m▁\u001b[39m▁\u001b[39m▄\u001b[39m▄\u001b[39m▁\u001b[39m▄\u001b[39m \u001b[39m▄\n",
       "  46.4 ms\u001b[90m         Histogram: frequency by time\u001b[39m         55.2 ms \u001b[0m\u001b[1m<\u001b[22m\n",
       "\n",
       " Memory estimate\u001b[90m: \u001b[39m\u001b[33m80.50 MiB\u001b[39m, allocs estimate\u001b[90m: \u001b[39m\u001b[33m3158424\u001b[39m."
      ]
     },
     "metadata": {},
     "output_type": "display_data"
    }
   ],
   "source": [
    "b1_Fg = @benchmark ExpFamilyPCA.fit!(\n",
    "\tEPCA(\n",
    "\t\t$indim,\n",
    "\t\t$outdim,\n",
    "\t\t$F,\n",
    "\t\t$g,\n",
    "\t\tVal((:F, :g));\n",
    "\t\tμ=$μ,\n",
    "\t\tϵ=$ϵ\n",
    "\t),\n",
    "\t$X;\n",
    "\tmaxiter=30,\n",
    ")"
   ]
  },
  {
   "cell_type": "code",
   "execution_count": 14,
   "metadata": {},
   "outputs": [
    {
     "data": {
      "text/plain": [
       "BenchmarkTools.Trial: 5 samples with 1 evaluation.\n",
       " Range \u001b[90m(\u001b[39m\u001b[36m\u001b[1mmin\u001b[22m\u001b[39m … \u001b[35mmax\u001b[39m\u001b[90m):  \u001b[39m\u001b[36m\u001b[1m1.087 s\u001b[22m\u001b[39m … \u001b[35m  1.216 s\u001b[39m  \u001b[90m┊\u001b[39m GC \u001b[90m(\u001b[39mmin … max\u001b[90m): \u001b[39m0.64% … 9.43%\n",
       " Time  \u001b[90m(\u001b[39m\u001b[34m\u001b[1mmedian\u001b[22m\u001b[39m\u001b[90m):     \u001b[39m\u001b[34m\u001b[1m1.105 s              \u001b[22m\u001b[39m\u001b[90m┊\u001b[39m GC \u001b[90m(\u001b[39mmedian\u001b[90m):    \u001b[39m0.80%\n",
       " Time  \u001b[90m(\u001b[39m\u001b[32m\u001b[1mmean\u001b[22m\u001b[39m ± \u001b[32mσ\u001b[39m\u001b[90m):   \u001b[39m\u001b[32m\u001b[1m1.123 s\u001b[22m\u001b[39m ± \u001b[32m53.233 ms\u001b[39m  \u001b[90m┊\u001b[39m GC \u001b[90m(\u001b[39mmean ± σ\u001b[90m):  \u001b[39m2.65% ± 3.88%\n",
       "\n",
       "  \u001b[39m█\u001b[34m█\u001b[39m\u001b[39m \u001b[39m \u001b[39m \u001b[39m \u001b[39m \u001b[39m█\u001b[39m \u001b[39m \u001b[39m \u001b[39m \u001b[39m \u001b[39m \u001b[39m█\u001b[39m \u001b[32m \u001b[39m\u001b[39m \u001b[39m \u001b[39m \u001b[39m \u001b[39m \u001b[39m \u001b[39m \u001b[39m \u001b[39m \u001b[39m \u001b[39m \u001b[39m \u001b[39m \u001b[39m \u001b[39m \u001b[39m \u001b[39m \u001b[39m \u001b[39m \u001b[39m \u001b[39m \u001b[39m \u001b[39m \u001b[39m \u001b[39m \u001b[39m \u001b[39m \u001b[39m \u001b[39m \u001b[39m \u001b[39m \u001b[39m \u001b[39m \u001b[39m \u001b[39m \u001b[39m \u001b[39m \u001b[39m \u001b[39m \u001b[39m█\u001b[39m \u001b[39m \n",
       "  \u001b[39m█\u001b[34m█\u001b[39m\u001b[39m▁\u001b[39m▁\u001b[39m▁\u001b[39m▁\u001b[39m▁\u001b[39m█\u001b[39m▁\u001b[39m▁\u001b[39m▁\u001b[39m▁\u001b[39m▁\u001b[39m▁\u001b[39m█\u001b[39m▁\u001b[32m▁\u001b[39m\u001b[39m▁\u001b[39m▁\u001b[39m▁\u001b[39m▁\u001b[39m▁\u001b[39m▁\u001b[39m▁\u001b[39m▁\u001b[39m▁\u001b[39m▁\u001b[39m▁\u001b[39m▁\u001b[39m▁\u001b[39m▁\u001b[39m▁\u001b[39m▁\u001b[39m▁\u001b[39m▁\u001b[39m▁\u001b[39m▁\u001b[39m▁\u001b[39m▁\u001b[39m▁\u001b[39m▁\u001b[39m▁\u001b[39m▁\u001b[39m▁\u001b[39m▁\u001b[39m▁\u001b[39m▁\u001b[39m▁\u001b[39m▁\u001b[39m▁\u001b[39m▁\u001b[39m▁\u001b[39m▁\u001b[39m▁\u001b[39m▁\u001b[39m▁\u001b[39m█\u001b[39m \u001b[39m▁\n",
       "  1.09 s\u001b[90m         Histogram: frequency by time\u001b[39m        1.22 s \u001b[0m\u001b[1m<\u001b[22m\n",
       "\n",
       " Memory estimate\u001b[90m: \u001b[39m\u001b[33m1.50 GiB\u001b[39m, allocs estimate\u001b[90m: \u001b[39m\u001b[33m98805865\u001b[39m."
      ]
     },
     "metadata": {},
     "output_type": "display_data"
    }
   ],
   "source": [
    "b1_Ff = @benchmark ExpFamilyPCA.fit!(\n",
    "\tEPCA(\n",
    "\t\t$indim,\n",
    "\t\t$outdim,\n",
    "\t\t$F,\n",
    "\t\t$f,\n",
    "\t\tVal((:F, :f));\n",
    "\t\tμ=$μ,\n",
    "\t\tϵ=$ϵ\n",
    "\t),\n",
    "\t$X;\n",
    "\tmaxiter=30,\n",
    ")"
   ]
  },
  {
   "cell_type": "code",
   "execution_count": 17,
   "metadata": {},
   "outputs": [
    {
     "ename": "MethodError",
     "evalue": "MethodError: no method matching (::ExpFamilyPCA.var\"#36#37\")(::Float64)\nThe applicable method may be too new: running in world age 31754, while current world is 31755.\n\nClosest candidates are:\n  (::ExpFamilyPCA.var\"#36#37\")(::Any) (method too new to be called from this world context.)\n   @ ExpFamilyPCA ~/Documents/VSCodeProjects/BeliefCompression/ExpFamilyPCA/src/utils.jl:21\n",
     "output_type": "error",
     "traceback": [
      "MethodError: no method matching (::ExpFamilyPCA.var\"#36#37\")(::Float64)\n",
      "The applicable method may be too new: running in world age 31754, while current world is 31755.\n",
      "\n",
      "Closest candidates are:\n",
      "  (::ExpFamilyPCA.var\"#36#37\")(::Any) (method too new to be called from this world context.)\n",
      "   @ ExpFamilyPCA ~/Documents/VSCodeProjects/BeliefCompression/ExpFamilyPCA/src/utils.jl:21\n",
      "\n",
      "\n",
      "Stacktrace:\n",
      "  [1] #_binary_search_monotone#5\n",
      "    @ ~/Documents/VSCodeProjects/BeliefCompression/ExpFamilyPCA/src/utils.jl:39 [inlined]\n",
      "  [2] _binary_search_monotone\n",
      "    @ ~/Documents/VSCodeProjects/BeliefCompression/ExpFamilyPCA/src/utils.jl:28 [inlined]\n",
      "  [3] g\n",
      "    @ ~/Documents/VSCodeProjects/BeliefCompression/ExpFamilyPCA/src/utils.jl:57 [inlined]\n",
      "  [4] _broadcast_getindex_evalf\n",
      "    @ ./broadcast.jl:709 [inlined]\n",
      "  [5] _broadcast_getindex\n",
      "    @ ./broadcast.jl:682 [inlined]\n",
      "  [6] getindex\n",
      "    @ ./broadcast.jl:636 [inlined]\n",
      "  [7] macro expansion\n",
      "    @ ./broadcast.jl:1004 [inlined]\n",
      "  [8] macro expansion\n",
      "    @ ./simdloop.jl:77 [inlined]\n",
      "  [9] copyto!\n",
      "    @ ./broadcast.jl:1003 [inlined]\n",
      " [10] copyto!\n",
      "    @ ./broadcast.jl:956 [inlined]\n",
      " [11] copy\n",
      "    @ ./broadcast.jl:928 [inlined]\n",
      " [12] materialize\n",
      "    @ ./broadcast.jl:903 [inlined]\n",
      " [13] (::ExpFamilyPCA.var\"#L#17\"{Matrix{Float64}, Float64, Matrix{Float64}, Float64, Float64, ExpFamilyPCA.var\"#g#7\"{Float64, Float64, Float64, Float64, ExpFamilyPCA.var\"#36#37\"}, typeof(F)})(θ::Matrix{Float64})\n",
      "    @ ExpFamilyPCA ~/Documents/VSCodeProjects/BeliefCompression/ExpFamilyPCA/src/constructors/epca1.jl:23\n",
      " [14] (::ExpFamilyPCA.var\"#13#15\"{ExpFamilyPCA.var\"#L#17\"{Matrix{Float64}, Float64, Matrix{Float64}, Float64, Float64, ExpFamilyPCA.var\"#g#7\"{Float64, Float64, Float64, Float64, ExpFamilyPCA.var\"#36#37\"}, typeof(F)}})(V̂::Matrix{Float64})\n",
      "    @ ExpFamilyPCA ~/Documents/VSCodeProjects/BeliefCompression/ExpFamilyPCA/src/utils.jl:105\n",
      " [15] value!!(obj::NLSolversBase.NonDifferentiable{Float64, Matrix{Float64}}, x::Matrix{Float64})\n",
      "    @ NLSolversBase ~/.julia/packages/NLSolversBase/kavn7/src/interface.jl:9\n",
      " [16] initial_state(method::Optim.NelderMead{Optim.AffineSimplexer, Optim.AdaptiveParameters}, options::Optim.Options{Float64, Nothing}, d::NLSolversBase.NonDifferentiable{Float64, Matrix{Float64}}, initial_x::Matrix{Float64})\n",
      "    @ Optim ~/.julia/packages/Optim/ZhuZN/src/multivariate/solvers/zeroth_order/nelder_mead.jl:171\n",
      " [17] optimize(d::NLSolversBase.NonDifferentiable{Float64, Matrix{Float64}}, initial_x::Matrix{Float64}, method::Optim.NelderMead{Optim.AffineSimplexer, Optim.AdaptiveParameters}, options::Optim.Options{Float64, Nothing})\n",
      "    @ Optim ~/.julia/packages/Optim/ZhuZN/src/multivariate/optimize/optimize.jl:36\n",
      " [18] optimize(f::Function, initial_x::Matrix{Float64}; inplace::Bool, autodiff::Symbol, kwargs::@Kwargs{})\n",
      "    @ Optim ~/.julia/packages/Optim/ZhuZN/src/multivariate/optimize/interface.jl:91\n",
      " [19] _single_fit_iter(L::ExpFamilyPCA.var\"#L#17\"{Matrix{Float64}, Float64, Matrix{Float64}, Float64, Float64, ExpFamilyPCA.var\"#g#7\"{Float64, Float64, Float64, Float64, ExpFamilyPCA.var\"#36#37\"}, typeof(F)}, V::Matrix{Float64}, A::Matrix{Float64}, verbose::Bool, i::Int64, steps_per_print::Int64, maxiter::Int64, autodiff::Bool)\n",
      "    @ ExpFamilyPCA ~/Documents/VSCodeProjects/BeliefCompression/ExpFamilyPCA/src/utils.jl:0\n",
      " [20] _fit(L::Function, V::Matrix{Float64}, A::Matrix{Float64}, maxiter::Int64, verbose::Bool, steps_per_print::Int64, autodiff::Bool)\n",
      "    @ ExpFamilyPCA ~/Documents/VSCodeProjects/BeliefCompression/ExpFamilyPCA/src/utils.jl:155\n",
      " [21] fit!(epca::ExpFamilyPCA.EPCA1, X::Matrix{Float64}; maxiter::Int64, verbose::Bool, steps_per_print::Int64, A_init::Nothing, autodiff::Bool)\n",
      "    @ ExpFamilyPCA ~/Documents/VSCodeProjects/BeliefCompression/ExpFamilyPCA/src/epca.jl:111\n",
      " [22] fit!\n",
      "    @ ~/Documents/VSCodeProjects/BeliefCompression/ExpFamilyPCA/src/epca.jl:95 [inlined]\n",
      " [23] var\"##core#348\"(μ#342::Float64, ϵ#343::Float64, indim#344::Int64, outdim#345::Int64, F#346::typeof(F), X#347::Matrix{Float64})\n",
      "    @ Main ~/.julia/packages/BenchmarkTools/QNsku/src/execution.jl:561\n",
      " [24] var\"##sample#349\"(::Tuple{Float64, Float64, Int64, Int64, typeof(F), Matrix{Float64}}, __params::BenchmarkTools.Parameters)\n",
      "    @ Main ~/.julia/packages/BenchmarkTools/QNsku/src/execution.jl:570\n",
      " [25] _lineartrial(b::BenchmarkTools.Benchmark, p::BenchmarkTools.Parameters; maxevals::Int64, kwargs::@Kwargs{})\n",
      "    @ BenchmarkTools ~/.julia/packages/BenchmarkTools/QNsku/src/execution.jl:187\n",
      " [26] _lineartrial(b::BenchmarkTools.Benchmark, p::BenchmarkTools.Parameters)\n",
      "    @ BenchmarkTools ~/.julia/packages/BenchmarkTools/QNsku/src/execution.jl:182\n",
      " [27] #invokelatest#2\n",
      "    @ ./essentials.jl:892 [inlined]\n",
      " [28] invokelatest\n",
      "    @ ./essentials.jl:889 [inlined]\n",
      " [29] #lineartrial#46\n",
      "    @ ~/.julia/packages/BenchmarkTools/QNsku/src/execution.jl:51 [inlined]\n",
      " [30] lineartrial\n",
      "    @ ~/.julia/packages/BenchmarkTools/QNsku/src/execution.jl:50 [inlined]\n",
      " [31] tune!(b::BenchmarkTools.Benchmark, p::BenchmarkTools.Parameters; progressid::Nothing, nleaves::Float64, ndone::Float64, verbose::Bool, pad::String, kwargs::@Kwargs{})\n",
      "    @ BenchmarkTools ~/.julia/packages/BenchmarkTools/QNsku/src/execution.jl:300\n",
      " [32] tune!\n",
      "    @ ~/.julia/packages/BenchmarkTools/QNsku/src/execution.jl:289 [inlined]\n",
      " [33] tune!(b::BenchmarkTools.Benchmark)\n",
      "    @ BenchmarkTools ~/.julia/packages/BenchmarkTools/QNsku/src/execution.jl:289\n",
      " [34] top-level scope\n",
      "    @ ~/.julia/packages/BenchmarkTools/QNsku/src/execution.jl:447"
     ]
    }
   ],
   "source": [
    "b1_F = @benchmark ExpFamilyPCA.fit!(\n",
    "\tEPCA(\n",
    "\t\t$indim,\n",
    "\t\t$outdim,\n",
    "\t\t$F,\n",
    "\t\tVal((:F));\n",
    "\t\tμ=$μ,\n",
    "\t\tϵ=$ϵ\n",
    "\t),\n",
    "\t$X;\n",
    "\tmaxiter=30,\n",
    ")"
   ]
  },
  {
   "cell_type": "code",
   "execution_count": 21,
   "metadata": {},
   "outputs": [
    {
     "ename": "MethodError",
     "evalue": "MethodError: no method matching (::ExpFamilyPCA.var\"#38#39\")(::Float64)\nThe applicable method may be too new: running in world age 31760, while current world is 31761.\n\nClosest candidates are:\n  (::ExpFamilyPCA.var\"#38#39\")(::Any) (method too new to be called from this world context.)\n   @ ExpFamilyPCA ~/Documents/VSCodeProjects/BeliefCompression/ExpFamilyPCA/src/utils.jl:21\n",
     "output_type": "error",
     "traceback": [
      "MethodError: no method matching (::ExpFamilyPCA.var\"#38#39\")(::Float64)\n",
      "The applicable method may be too new: running in world age 31760, while current world is 31761.\n",
      "\n",
      "Closest candidates are:\n",
      "  (::ExpFamilyPCA.var\"#38#39\")(::Any) (method too new to be called from this world context.)\n",
      "   @ ExpFamilyPCA ~/Documents/VSCodeProjects/BeliefCompression/ExpFamilyPCA/src/utils.jl:21\n",
      "\n",
      "\n",
      "Stacktrace:\n",
      "  [1] _broadcast_getindex_evalf\n",
      "    @ ./broadcast.jl:709 [inlined]\n",
      "  [2] _broadcast_getindex\n",
      "    @ ./broadcast.jl:682 [inlined]\n",
      "  [3] getindex\n",
      "    @ ./broadcast.jl:636 [inlined]\n",
      "  [4] copy\n",
      "    @ ./broadcast.jl:942 [inlined]\n",
      "  [5] materialize\n",
      "    @ ./broadcast.jl:903 [inlined]\n",
      "  [6] (::ExpFamilyPCA.var\"#L#17\"{Matrix{Float64}, Float64, Matrix{Float64}, Float64, Float64, ExpFamilyPCA.var\"#38#39\", typeof(F)})(θ::Matrix{Float64})\n",
      "    @ ExpFamilyPCA ~/Documents/VSCodeProjects/BeliefCompression/ExpFamilyPCA/src/constructors/epca1.jl:23\n",
      "  [7] (::ExpFamilyPCA.var\"#13#15\"{ExpFamilyPCA.var\"#L#17\"{Matrix{Float64}, Float64, Matrix{Float64}, Float64, Float64, ExpFamilyPCA.var\"#38#39\", typeof(F)}})(V̂::Matrix{Float64})\n",
      "    @ ExpFamilyPCA ~/Documents/VSCodeProjects/BeliefCompression/ExpFamilyPCA/src/utils.jl:105\n",
      "  [8] value!!(obj::NLSolversBase.NonDifferentiable{Float64, Matrix{Float64}}, x::Matrix{Float64})\n",
      "    @ NLSolversBase ~/.julia/packages/NLSolversBase/kavn7/src/interface.jl:9\n",
      "  [9] initial_state(method::Optim.NelderMead{Optim.AffineSimplexer, Optim.AdaptiveParameters}, options::Optim.Options{Float64, Nothing}, d::NLSolversBase.NonDifferentiable{Float64, Matrix{Float64}}, initial_x::Matrix{Float64})\n",
      "    @ Optim ~/.julia/packages/Optim/ZhuZN/src/multivariate/solvers/zeroth_order/nelder_mead.jl:171\n",
      " [10] optimize(d::NLSolversBase.NonDifferentiable{Float64, Matrix{Float64}}, initial_x::Matrix{Float64}, method::Optim.NelderMead{Optim.AffineSimplexer, Optim.AdaptiveParameters}, options::Optim.Options{Float64, Nothing})\n",
      "    @ Optim ~/.julia/packages/Optim/ZhuZN/src/multivariate/optimize/optimize.jl:36\n",
      " [11] optimize(f::Function, initial_x::Matrix{Float64}; inplace::Bool, autodiff::Symbol, kwargs::@Kwargs{})\n",
      "    @ Optim ~/.julia/packages/Optim/ZhuZN/src/multivariate/optimize/interface.jl:91\n",
      " [12] _single_fit_iter(L::ExpFamilyPCA.var\"#L#17\"{Matrix{Float64}, Float64, Matrix{Float64}, Float64, Float64, ExpFamilyPCA.var\"#38#39\", typeof(F)}, V::Matrix{Float64}, A::Matrix{Float64}, verbose::Bool, i::Int64, steps_per_print::Int64, maxiter::Int64, autodiff::Bool)\n",
      "    @ ExpFamilyPCA ~/Documents/VSCodeProjects/BeliefCompression/ExpFamilyPCA/src/utils.jl:0\n",
      " [13] _fit(L::Function, V::Matrix{Float64}, A::Matrix{Float64}, maxiter::Int64, verbose::Bool, steps_per_print::Int64, autodiff::Bool)\n",
      "    @ ExpFamilyPCA ~/Documents/VSCodeProjects/BeliefCompression/ExpFamilyPCA/src/utils.jl:155\n",
      " [14] fit!(epca::ExpFamilyPCA.EPCA1, X::Matrix{Float64}; maxiter::Int64, verbose::Bool, steps_per_print::Int64, A_init::Nothing, autodiff::Bool)\n",
      "    @ ExpFamilyPCA ~/Documents/VSCodeProjects/BeliefCompression/ExpFamilyPCA/src/epca.jl:111\n",
      " [15] fit!\n",
      "    @ ~/Documents/VSCodeProjects/BeliefCompression/ExpFamilyPCA/src/epca.jl:95 [inlined]\n",
      " [16] var\"##core#292\"(μ#285::Float64, ϵ#286::Float64, indim#287::Int64, outdim#288::Int64, F#289::typeof(F), G#290::typeof(G), X#291::Matrix{Float64})\n",
      "    @ Main ~/.julia/packages/BenchmarkTools/QNsku/src/execution.jl:561\n",
      " [17] var\"##sample#293\"(::Tuple{Float64, Float64, Int64, Int64, typeof(F), typeof(G), Matrix{Float64}}, __params::BenchmarkTools.Parameters)\n",
      "    @ Main ~/.julia/packages/BenchmarkTools/QNsku/src/execution.jl:570\n",
      " [18] _lineartrial(b::BenchmarkTools.Benchmark, p::BenchmarkTools.Parameters; maxevals::Int64, kwargs::@Kwargs{})\n",
      "    @ BenchmarkTools ~/.julia/packages/BenchmarkTools/QNsku/src/execution.jl:187\n",
      " [19] _lineartrial(b::BenchmarkTools.Benchmark, p::BenchmarkTools.Parameters)\n",
      "    @ BenchmarkTools ~/.julia/packages/BenchmarkTools/QNsku/src/execution.jl:182\n",
      " [20] #invokelatest#2\n",
      "    @ ./essentials.jl:892 [inlined]\n",
      " [21] invokelatest\n",
      "    @ ./essentials.jl:889 [inlined]\n",
      " [22] #lineartrial#46\n",
      "    @ ~/.julia/packages/BenchmarkTools/QNsku/src/execution.jl:51 [inlined]\n",
      " [23] lineartrial\n",
      "    @ ~/.julia/packages/BenchmarkTools/QNsku/src/execution.jl:50 [inlined]\n",
      " [24] tune!(b::BenchmarkTools.Benchmark, p::BenchmarkTools.Parameters; progressid::Nothing, nleaves::Float64, ndone::Float64, verbose::Bool, pad::String, kwargs::@Kwargs{})\n",
      "    @ BenchmarkTools ~/.julia/packages/BenchmarkTools/QNsku/src/execution.jl:300\n",
      " [25] tune!\n",
      "    @ ~/.julia/packages/BenchmarkTools/QNsku/src/execution.jl:289 [inlined]\n",
      " [26] tune!(b::BenchmarkTools.Benchmark)\n",
      "    @ BenchmarkTools ~/.julia/packages/BenchmarkTools/QNsku/src/execution.jl:289\n",
      " [27] top-level scope\n",
      "    @ ~/.julia/packages/BenchmarkTools/QNsku/src/execution.jl:447"
     ]
    }
   ],
   "source": [
    "b1_FG = @benchmark ExpFamilyPCA.fit!(\n",
    "\tEPCA(\n",
    "\t\t$indim,\n",
    "\t\t$outdim,\n",
    "\t\t$F,\n",
    "\t\t$G,\n",
    "\t\tVal((:F, :G));\n",
    "\t\tμ=$μ,\n",
    "\t\tϵ=$ϵ\n",
    "\t),\n",
    "\t$X;\n",
    "\tmaxiter=30,\n",
    ")"
   ]
  },
  {
   "cell_type": "markdown",
   "metadata": {},
   "source": [
    "## EPCA 2"
   ]
  },
  {
   "cell_type": "code",
   "execution_count": 22,
   "metadata": {},
   "outputs": [
    {
     "ename": "InterruptException",
     "evalue": "InterruptException:",
     "output_type": "error",
     "traceback": [
      "InterruptException:\n",
      "\n",
      "Stacktrace:\n",
      "  [1] exp(x::Float64)\n",
      "    @ Base.Math ./special/exp.jl:327\n",
      "  [2] g\n",
      "    @ ~/Documents/VSCodeProjects/BeliefCompression/ExpFamilyPCA/scripts/benchmarking/jl_notebook_cell_df34fa98e69747e1a8f8a730347b8e2f_W3sZmlsZQ==.jl:6 [inlined]\n",
      "  [3] Fg\n",
      "    @ ~/Documents/VSCodeProjects/BeliefCompression/ExpFamilyPCA/src/constructors/epca2.jl:21 [inlined]\n",
      "  [4] _broadcast_getindex_evalf\n",
      "    @ ./broadcast.jl:709 [inlined]\n",
      "  [5] _broadcast_getindex\n",
      "    @ ./broadcast.jl:682 [inlined]\n",
      "  [6] getindex\n",
      "    @ ./broadcast.jl:636 [inlined]\n",
      "  [7] macro expansion\n",
      "    @ ./broadcast.jl:1004 [inlined]\n",
      "  [8] macro expansion\n",
      "    @ ./simdloop.jl:77 [inlined]\n",
      "  [9] copyto!\n",
      "    @ ./broadcast.jl:1003 [inlined]\n",
      " [10] copyto!\n",
      "    @ ./broadcast.jl:956 [inlined]\n",
      " [11] copy\n",
      "    @ ./broadcast.jl:928 [inlined]\n",
      " [12] materialize\n",
      "    @ ./broadcast.jl:903 [inlined]\n",
      " [13] (::ExpFamilyPCA.var\"#L#25\"{Matrix{Float64}, Float64, Matrix{Float64}, ExpFamilyPCA.var\"#Fg#23\"{typeof(g), typeof(G)}, Float64, Float64, typeof(g)})(θ::Matrix{Float64})\n",
      "    @ ExpFamilyPCA ~/Documents/VSCodeProjects/BeliefCompression/ExpFamilyPCA/src/constructors/epca2.jl:39"
     ]
    }
   ],
   "source": [
    "b2_Gg = @benchmark ExpFamilyPCA.fit!(\n",
    "    EPCA(\n",
    "        $indim,\n",
    "        $outdim,\n",
    "        $G,\n",
    "        $g,\n",
    "        Val((:G, :g));\n",
    "        μ=$μ,\n",
    "        ϵ=$ϵ\n",
    "    ),\n",
    "\t$X;\n",
    "\tmaxiter=30,\n",
    ")"
   ]
  },
  {
   "cell_type": "code",
   "execution_count": 23,
   "metadata": {},
   "outputs": [
    {
     "ename": "MethodError",
     "evalue": "MethodError: no method matching (::ExpFamilyPCA.var\"#40#41\")(::Float64)\nThe applicable method may be too new: running in world age 31765, while current world is 31766.\n\nClosest candidates are:\n  (::ExpFamilyPCA.var\"#40#41\")(::Any) (method too new to be called from this world context.)\n   @ ExpFamilyPCA ~/Documents/VSCodeProjects/BeliefCompression/ExpFamilyPCA/src/utils.jl:21\n",
     "output_type": "error",
     "traceback": [
      "MethodError: no method matching (::ExpFamilyPCA.var\"#40#41\")(::Float64)\n",
      "The applicable method may be too new: running in world age 31765, while current world is 31766.\n",
      "\n",
      "Closest candidates are:\n",
      "  (::ExpFamilyPCA.var\"#40#41\")(::Any) (method too new to be called from this world context.)\n",
      "   @ ExpFamilyPCA ~/Documents/VSCodeProjects/BeliefCompression/ExpFamilyPCA/src/utils.jl:21\n",
      "\n",
      "\n",
      "Stacktrace:\n",
      "  [1] #_binary_search_monotone#5\n",
      "    @ ~/Documents/VSCodeProjects/BeliefCompression/ExpFamilyPCA/src/utils.jl:39 [inlined]\n",
      "  [2] _binary_search_monotone\n",
      "    @ ~/Documents/VSCodeProjects/BeliefCompression/ExpFamilyPCA/src/utils.jl:28 [inlined]\n",
      "  [3] #22\n",
      "    @ ~/Documents/VSCodeProjects/BeliefCompression/ExpFamilyPCA/src/constructors/epca2.jl:23 [inlined]\n",
      "  [4] iterate\n",
      "    @ ./generator.jl:47 [inlined]\n",
      "  [5] _collect(c::Matrix{Float64}, itr::Base.Generator{Matrix{Float64}, ExpFamilyPCA.var\"#22#24\"{Float64, ExpFamilyPCA.var\"#40#41\"}}, ::Base.EltypeUnknown, isz::Base.HasShape{2})\n",
      "    @ Base ./array.jl:854\n",
      "  [6] collect_similar(cont::Matrix{Float64}, itr::Base.Generator{Matrix{Float64}, ExpFamilyPCA.var\"#22#24\"{Float64, ExpFamilyPCA.var\"#40#41\"}})\n",
      "    @ Base ./array.jl:763\n",
      "  [7] map(f::Function, A::Matrix{Float64})\n",
      "    @ Base ./abstractarray.jl:3285\n",
      "  [8] _make_loss(epca::ExpFamilyPCA.EPCA2, X::Matrix{Float64})\n",
      "    @ ExpFamilyPCA ~/Documents/VSCodeProjects/BeliefCompression/ExpFamilyPCA/src/constructors/epca2.jl:22\n",
      "  [9] fit!(epca::ExpFamilyPCA.EPCA2, X::Matrix{Float64}; maxiter::Int64, verbose::Bool, steps_per_print::Int64, A_init::Nothing, autodiff::Bool)\n",
      "    @ ExpFamilyPCA ~/Documents/VSCodeProjects/BeliefCompression/ExpFamilyPCA/src/epca.jl:104\n",
      " [10] fit!\n",
      "    @ ~/Documents/VSCodeProjects/BeliefCompression/ExpFamilyPCA/src/epca.jl:95 [inlined]\n",
      " [11] var\"##core#325\"(μ#319::Float64, ϵ#320::Float64, indim#321::Int64, outdim#322::Int64, G#323::typeof(G), X#324::Matrix{Float64})\n",
      "    @ Main ~/.julia/packages/BenchmarkTools/QNsku/src/execution.jl:561\n",
      " [12] var\"##sample#326\"(::Tuple{Float64, Float64, Int64, Int64, typeof(G), Matrix{Float64}}, __params::BenchmarkTools.Parameters)\n",
      "    @ Main ~/.julia/packages/BenchmarkTools/QNsku/src/execution.jl:570\n",
      " [13] _lineartrial(b::BenchmarkTools.Benchmark, p::BenchmarkTools.Parameters; maxevals::Int64, kwargs::@Kwargs{})\n",
      "    @ BenchmarkTools ~/.julia/packages/BenchmarkTools/QNsku/src/execution.jl:187\n",
      " [14] _lineartrial(b::BenchmarkTools.Benchmark, p::BenchmarkTools.Parameters)\n",
      "    @ BenchmarkTools ~/.julia/packages/BenchmarkTools/QNsku/src/execution.jl:182\n",
      " [15] #invokelatest#2\n",
      "    @ ./essentials.jl:892 [inlined]\n",
      " [16] invokelatest\n",
      "    @ ./essentials.jl:889 [inlined]\n",
      " [17] #lineartrial#46\n",
      "    @ ~/.julia/packages/BenchmarkTools/QNsku/src/execution.jl:51 [inlined]\n",
      " [18] lineartrial\n",
      "    @ ~/.julia/packages/BenchmarkTools/QNsku/src/execution.jl:50 [inlined]\n",
      " [19] tune!(b::BenchmarkTools.Benchmark, p::BenchmarkTools.Parameters; progressid::Nothing, nleaves::Float64, ndone::Float64, verbose::Bool, pad::String, kwargs::@Kwargs{})\n",
      "    @ BenchmarkTools ~/.julia/packages/BenchmarkTools/QNsku/src/execution.jl:300\n",
      " [20] tune!\n",
      "    @ ~/.julia/packages/BenchmarkTools/QNsku/src/execution.jl:289 [inlined]\n",
      " [21] tune!(b::BenchmarkTools.Benchmark)\n",
      "    @ BenchmarkTools ~/.julia/packages/BenchmarkTools/QNsku/src/execution.jl:289\n",
      " [22] top-level scope\n",
      "    @ ~/.julia/packages/BenchmarkTools/QNsku/src/execution.jl:447"
     ]
    }
   ],
   "source": [
    "b2_G = @benchmark ExpFamilyPCA.fit!(\n",
    "    EPCA(\n",
    "        $indim,\n",
    "        $outdim,\n",
    "        $G,\n",
    "        Val((:G));\n",
    "        μ=$μ,\n",
    "        ϵ=$ϵ\n",
    "    ),\n",
    "    $X;\n",
    "    maxiter=30,\n",
    ")"
   ]
  },
  {
   "cell_type": "markdown",
   "metadata": {},
   "source": [
    "## EPCA 3"
   ]
  },
  {
   "cell_type": "code",
   "execution_count": 24,
   "metadata": {},
   "outputs": [
    {
     "ename": "InterruptException",
     "evalue": "InterruptException:",
     "output_type": "error",
     "traceback": [
      "InterruptException:\n",
      "\n",
      "Stacktrace:\n",
      "  [1] _log(x::Float64, base::Val{:ℯ}, func::Symbol)\n",
      "    @ Base.Math ./special/log.jl:270\n",
      "  [2] log\n",
      "    @ ./special/log.jl:267 [inlined]\n",
      "  [3] eval_op\n",
      "    @ ~/.julia/packages/Distances/n9q0L/src/metrics.jl:430 [inlined]\n",
      "  [4] _evaluate\n",
      "    @ ~/.julia/packages/Distances/n9q0L/src/metrics.jl:311 [inlined]\n",
      "  [5] GenKLDivergence\n",
      "    @ ~/.julia/packages/Distances/n9q0L/src/metrics.jl:328 [inlined]\n",
      "  [6] _broadcast_getindex_evalf\n",
      "    @ ./broadcast.jl:709 [inlined]\n",
      "  [7] _broadcast_getindex\n",
      "    @ ./broadcast.jl:682 [inlined]\n",
      "  [8] _getindex\n",
      "    @ ./broadcast.jl:706 [inlined]\n",
      "  [9] _getindex\n",
      "    @ ./broadcast.jl:705 [inlined]\n",
      " [10] _broadcast_getindex\n",
      "    @ ./broadcast.jl:681 [inlined]\n",
      "--- the last 3 lines are repeated 1 more time ---\n",
      " [14] getindex\n",
      "    @ ./broadcast.jl:636 [inlined]\n",
      " [15] macro expansion\n",
      "    @ ./broadcast.jl:1004 [inlined]\n",
      " [16] macro expansion\n",
      "    @ ./simdloop.jl:77 [inlined]\n",
      " [17] copyto!\n",
      "    @ ./broadcast.jl:1003 [inlined]\n",
      " [18] copyto!\n",
      "    @ ./broadcast.jl:956 [inlined]\n",
      " [19] copy\n",
      "    @ ./broadcast.jl:928 [inlined]\n",
      " [20] materialize\n",
      "    @ ./broadcast.jl:903 [inlined]\n",
      " [21] (::ExpFamilyPCA.var\"#L#28\"{Matrix{Float64}, Float64, Float64, typeof(g), GenKLDivergence})(θ::Matrix{Float64})\n",
      "    @ ExpFamilyPCA ~/Documents/VSCodeProjects/BeliefCompression/ExpFamilyPCA/src/constructors/epca3.jl:18\n",
      " [22] (::ExpFamilyPCA.var\"#9#11\"{ExpFamilyPCA.var\"#L#28\"{Matrix{Float64}, Float64, Float64, typeof(g), GenKLDivergence}, Matrix{Float64}})(Â::Matrix{Float64})\n",
      "    @ ExpFamilyPCA ~/Documents/VSCodeProjects/BeliefCompression/ExpFamilyPCA/src/utils.jl:82\n",
      " [23] value(obj::NLSolversBase.NonDifferentiable{Float64, Matrix{Float64}}, x::Matrix{Float64})\n",
      "    @ NLSolversBase ~/.julia/packages/NLSolversBase/kavn7/src/interface.jl:19\n",
      " [24] initial_state(method::Optim.NelderMead{Optim.AffineSimplexer, Optim.AdaptiveParameters}, options::Optim.Options{Float64, Nothing}, d::NLSolversBase.NonDifferentiable{Float64, Matrix{Float64}}, initial_x::Matrix{Float64})\n",
      "    @ Optim ~/.julia/packages/Optim/ZhuZN/src/multivariate/solvers/zeroth_order/nelder_mead.jl:174\n",
      " [25] optimize(d::NLSolversBase.NonDifferentiable{Float64, Matrix{Float64}}, initial_x::Matrix{Float64}, method::Optim.NelderMead{Optim.AffineSimplexer, Optim.AdaptiveParameters}, options::Optim.Options{Float64, Nothing})\n",
      "    @ Optim ~/.julia/packages/Optim/ZhuZN/src/multivariate/optimize/optimize.jl:36\n",
      " [26] optimize(f::Function, initial_x::Matrix{Float64}; inplace::Bool, autodiff::Symbol, kwargs::@Kwargs{})\n",
      "    @ Optim ~/.julia/packages/Optim/ZhuZN/src/multivariate/optimize/interface.jl:91\n",
      " [27] _single_compress_iter(L::ExpFamilyPCA.var\"#L#28\"{Matrix{Float64}, Float64, Float64, typeof(g), GenKLDivergence}, V::Matrix{Float64}, A::Matrix{Float64}, verbose::Bool, i::Int64, steps_per_print::Int64, maxiter::Int64, autodiff::Bool)\n",
      "    @ ExpFamilyPCA ~/Documents/VSCodeProjects/BeliefCompression/ExpFamilyPCA/src/utils.jl:0\n",
      " [28] _single_fit_iter(L::ExpFamilyPCA.var\"#L#28\"{Matrix{Float64}, Float64, Float64, typeof(g), GenKLDivergence}, V::Matrix{Float64}, A::Matrix{Float64}, verbose::Bool, i::Int64, steps_per_print::Int64, maxiter::Int64, autodiff::Bool)\n",
      "    @ ExpFamilyPCA ~/Documents/VSCodeProjects/BeliefCompression/ExpFamilyPCA/src/utils.jl:108\n",
      " [29] _fit(L::Function, V::Matrix{Float64}, A::Matrix{Float64}, maxiter::Int64, verbose::Bool, steps_per_print::Int64, autodiff::Bool)\n",
      "    @ ExpFamilyPCA ~/Documents/VSCodeProjects/BeliefCompression/ExpFamilyPCA/src/utils.jl:155\n",
      " [30] fit!(epca::ExpFamilyPCA.EPCA3, X::Matrix{Float64}; maxiter::Int64, verbose::Bool, steps_per_print::Int64, A_init::Nothing, autodiff::Bool)\n",
      "    @ ExpFamilyPCA ~/Documents/VSCodeProjects/BeliefCompression/ExpFamilyPCA/src/epca.jl:111\n",
      " [31] fit!\n",
      "    @ ~/Documents/VSCodeProjects/BeliefCompression/ExpFamilyPCA/src/epca.jl:95 [inlined]\n",
      " [32] var\"##core#341\"(μ#334::Float64, ϵ#335::Float64, indim#336::Int64, outdim#337::Int64, Bregman#338::GenKLDivergence, g#339::typeof(g), X#340::Matrix{Float64})\n",
      "    @ Main ~/.julia/packages/BenchmarkTools/QNsku/src/execution.jl:561\n",
      " [33] var\"##sample#342\"(::Tuple{Float64, Float64, Int64, Int64, GenKLDivergence, typeof(g), Matrix{Float64}}, __params::BenchmarkTools.Parameters)\n",
      "    @ Main ~/.julia/packages/BenchmarkTools/QNsku/src/execution.jl:570\n",
      " [34] _lineartrial(b::BenchmarkTools.Benchmark, p::BenchmarkTools.Parameters; maxevals::Int64, kwargs::@Kwargs{})\n",
      "    @ BenchmarkTools ~/.julia/packages/BenchmarkTools/QNsku/src/execution.jl:187\n",
      " [35] _lineartrial(b::BenchmarkTools.Benchmark, p::BenchmarkTools.Parameters)\n",
      "    @ BenchmarkTools ~/.julia/packages/BenchmarkTools/QNsku/src/execution.jl:182\n",
      " [36] #invokelatest#2\n",
      "    @ ./essentials.jl:892 [inlined]\n",
      " [37] invokelatest\n",
      "    @ ./essentials.jl:889 [inlined]\n",
      " [38] #lineartrial#46\n",
      "    @ ~/.julia/packages/BenchmarkTools/QNsku/src/execution.jl:51 [inlined]\n",
      " [39] lineartrial\n",
      "    @ ~/.julia/packages/BenchmarkTools/QNsku/src/execution.jl:50 [inlined]\n",
      " [40] tune!(b::BenchmarkTools.Benchmark, p::BenchmarkTools.Parameters; progressid::Nothing, nleaves::Float64, ndone::Float64, verbose::Bool, pad::String, kwargs::@Kwargs{})\n",
      "    @ BenchmarkTools ~/.julia/packages/BenchmarkTools/QNsku/src/execution.jl:300\n",
      " [41] tune!\n",
      "    @ ~/.julia/packages/BenchmarkTools/QNsku/src/execution.jl:289 [inlined]\n",
      " [42] tune!(b::BenchmarkTools.Benchmark)\n",
      "    @ BenchmarkTools ~/.julia/packages/BenchmarkTools/QNsku/src/execution.jl:289\n",
      " [43] eval\n",
      "    @ ./boot.jl:385 [inlined]\n",
      " [44] include_string(mapexpr::typeof(REPL.softscope), mod::Module, code::String, filename::String)\n",
      "    @ Base ./loading.jl:2076\n",
      " [45] #invokelatest#2\n",
      "    @ ./essentials.jl:892 [inlined]\n",
      " [46] invokelatest\n",
      "    @ ./essentials.jl:889 [inlined]\n",
      " [47] (::VSCodeServer.var\"#217#218\"{VSCodeServer.NotebookRunCellArguments, String})()\n",
      "    @ VSCodeServer ~/.vscode/extensions/julialang.language-julia-1.105.2/scripts/packages/VSCodeServer/src/serve_notebook.jl:24\n",
      " [48] withpath(f::VSCodeServer.var\"#217#218\"{VSCodeServer.NotebookRunCellArguments, String}, path::String)\n",
      "    @ VSCodeServer ~/.vscode/extensions/julialang.language-julia-1.105.2/scripts/packages/VSCodeServer/src/repl.jl:276\n",
      " [49] notebook_runcell_request(conn::VSCodeServer.JSONRPC.JSONRPCEndpoint{Base.PipeEndpoint, Base.PipeEndpoint}, params::VSCodeServer.NotebookRunCellArguments)\n",
      "    @ VSCodeServer ~/.vscode/extensions/julialang.language-julia-1.105.2/scripts/packages/VSCodeServer/src/serve_notebook.jl:13\n",
      " [50] dispatch_msg(x::VSCodeServer.JSONRPC.JSONRPCEndpoint{Base.PipeEndpoint, Base.PipeEndpoint}, dispatcher::VSCodeServer.JSONRPC.MsgDispatcher, msg::Dict{String, Any})\n",
      "    @ VSCodeServer.JSONRPC ~/.vscode/extensions/julialang.language-julia-1.105.2/scripts/packages/JSONRPC/src/typed.jl:67\n",
      " [51] serve_notebook(pipename::String, debugger_pipename::String, outputchannel_logger::Base.CoreLogging.SimpleLogger; error_handler::var\"#5#10\"{String})\n",
      "    @ VSCodeServer ~/.vscode/extensions/julialang.language-julia-1.105.2/scripts/packages/VSCodeServer/src/serve_notebook.jl:147"
     ]
    }
   ],
   "source": [
    "b3_Bregmang = @benchmark ExpFamilyPCA.fit!(\n",
    "\tEPCA(\n",
    "\t\t$indim,\n",
    "\t\t$outdim,\n",
    "\t\t$Bregman,\n",
    "\t\t$g,\n",
    "\t\tVal((:Bregman, :g));\n",
    "\t\tμ=$μ,\n",
    "\t\tϵ=$ϵ\n",
    "\t),\n",
    "\t$X;\n",
    "\tmaxiter=30,\n",
    ")"
   ]
  },
  {
   "cell_type": "code",
   "execution_count": 25,
   "metadata": {},
   "outputs": [
    {
     "data": {
      "text/plain": [
       "BenchmarkTools.Trial: 3 samples with 1 evaluation.\n",
       " Range \u001b[90m(\u001b[39m\u001b[36m\u001b[1mmin\u001b[22m\u001b[39m … \u001b[35mmax\u001b[39m\u001b[90m):  \u001b[39m\u001b[36m\u001b[1m2.142 s\u001b[22m\u001b[39m … \u001b[35m 2.153 s\u001b[39m  \u001b[90m┊\u001b[39m GC \u001b[90m(\u001b[39mmin … max\u001b[90m): \u001b[39m4.23% … 4.25%\n",
       " Time  \u001b[90m(\u001b[39m\u001b[34m\u001b[1mmedian\u001b[22m\u001b[39m\u001b[90m):     \u001b[39m\u001b[34m\u001b[1m2.150 s             \u001b[22m\u001b[39m\u001b[90m┊\u001b[39m GC \u001b[90m(\u001b[39mmedian\u001b[90m):    \u001b[39m4.25%\n",
       " Time  \u001b[90m(\u001b[39m\u001b[32m\u001b[1mmean\u001b[22m\u001b[39m ± \u001b[32mσ\u001b[39m\u001b[90m):   \u001b[39m\u001b[32m\u001b[1m2.148 s\u001b[22m\u001b[39m ± \u001b[32m5.558 ms\u001b[39m  \u001b[90m┊\u001b[39m GC \u001b[90m(\u001b[39mmean ± σ\u001b[90m):  \u001b[39m4.25% ± 0.03%\n",
       "\n",
       "  \u001b[34m█\u001b[39m\u001b[39m \u001b[39m \u001b[39m \u001b[39m \u001b[39m \u001b[39m \u001b[39m \u001b[39m \u001b[39m \u001b[39m \u001b[39m \u001b[39m \u001b[39m \u001b[39m \u001b[39m \u001b[39m \u001b[39m \u001b[39m \u001b[39m \u001b[39m \u001b[39m \u001b[39m \u001b[39m \u001b[39m \u001b[39m \u001b[39m \u001b[39m \u001b[39m \u001b[39m \u001b[39m \u001b[39m \u001b[32m \u001b[39m\u001b[39m \u001b[39m \u001b[39m \u001b[39m \u001b[39m \u001b[39m \u001b[39m \u001b[39m█\u001b[39m \u001b[39m \u001b[39m \u001b[39m \u001b[39m \u001b[39m \u001b[39m \u001b[39m \u001b[39m \u001b[39m \u001b[39m \u001b[39m \u001b[39m \u001b[39m \u001b[39m█\u001b[39m \u001b[39m \n",
       "  \u001b[34m█\u001b[39m\u001b[39m▁\u001b[39m▁\u001b[39m▁\u001b[39m▁\u001b[39m▁\u001b[39m▁\u001b[39m▁\u001b[39m▁\u001b[39m▁\u001b[39m▁\u001b[39m▁\u001b[39m▁\u001b[39m▁\u001b[39m▁\u001b[39m▁\u001b[39m▁\u001b[39m▁\u001b[39m▁\u001b[39m▁\u001b[39m▁\u001b[39m▁\u001b[39m▁\u001b[39m▁\u001b[39m▁\u001b[39m▁\u001b[39m▁\u001b[39m▁\u001b[39m▁\u001b[39m▁\u001b[39m▁\u001b[39m▁\u001b[32m▁\u001b[39m\u001b[39m▁\u001b[39m▁\u001b[39m▁\u001b[39m▁\u001b[39m▁\u001b[39m▁\u001b[39m▁\u001b[39m█\u001b[39m▁\u001b[39m▁\u001b[39m▁\u001b[39m▁\u001b[39m▁\u001b[39m▁\u001b[39m▁\u001b[39m▁\u001b[39m▁\u001b[39m▁\u001b[39m▁\u001b[39m▁\u001b[39m▁\u001b[39m▁\u001b[39m█\u001b[39m \u001b[39m▁\n",
       "  2.14 s\u001b[90m        Histogram: frequency by time\u001b[39m        2.15 s \u001b[0m\u001b[1m<\u001b[22m\n",
       "\n",
       " Memory estimate\u001b[90m: \u001b[39m\u001b[33m1.75 GiB\u001b[39m, allocs estimate\u001b[90m: \u001b[39m\u001b[33m747494\u001b[39m."
      ]
     },
     "metadata": {},
     "output_type": "display_data"
    }
   ],
   "source": [
    "b3_BregmanG = @benchmark ExpFamilyPCA.fit!(\n",
    "\tEPCA(\n",
    "\t\t$indim,\n",
    "\t\t$outdim,\n",
    "\t\t$Bregman,\n",
    "\t\t$G,\n",
    "\t\tVal((:Bregman, :g));\n",
    "\t\tμ=$μ,\n",
    "\t\tϵ=$ϵ\n",
    "\t),\n",
    "\t$X;\n",
    "\tmaxiter=30,\n",
    ")"
   ]
  },
  {
   "cell_type": "markdown",
   "metadata": {},
   "source": [
    "# Table"
   ]
  },
  {
   "cell_type": "code",
   "execution_count": 18,
   "metadata": {},
   "outputs": [
    {
     "data": {
      "text/plain": [
       "6.814974e9"
      ]
     },
     "metadata": {},
     "output_type": "display_data"
    }
   ],
   "source": [
    "mean(b1_Fg).time"
   ]
  }
 ],
 "metadata": {
  "kernelspec": {
   "display_name": "Julia 1.10.4",
   "language": "julia",
   "name": "julia-1.10"
  },
  "language_info": {
   "file_extension": ".jl",
   "mimetype": "application/julia",
   "name": "julia",
   "version": "1.10.4"
  }
 },
 "nbformat": 4,
 "nbformat_minor": 2
}
